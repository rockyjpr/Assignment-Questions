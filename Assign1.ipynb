{
 "cells": [
  {
   "cell_type": "markdown",
   "id": "794a9d1a-f596-4b87-bd84-2cc9b0d58038",
   "metadata": {},
   "source": [
    "Ans 1 -  An exception in Python refers to an event that disrupts the normal flow of a program's execution. Exceptions can occur due to various reasons such as invalid input, resource unavailability, or programming errors. Here's a breakdown of the differences between exceptions and errors:\n",
    "\n",
    "- **Exceptions**\n",
    "  - Occur during runtime.\n",
    "  - Can be caught and handled using try-except blocks.\n",
    "  - Examples include ZeroDivisionError, IndexError, and FileNotFoundError.\n",
    "\n",
    "- **Errors**:\n",
    "  - Can be syntax errors or runtime errors.\n",
    "  - Syntax errors occur during parsing of code and prevent the program from running.\n",
    "  - Runtime errors occur during program execution but cannot be handled by try-except blocks.\n",
    "  - Examples include NameError, TypeError, and IndentationError.\n",
    "\n"
   ]
  },
  {
   "cell_type": "markdown",
   "id": "35da2f31-09d9-417d-ba5f-04b472ae0cca",
   "metadata": {},
   "source": [
    "Ans 2 - \n",
    "When an exception is not handled in a program, it can lead to unexpected behavior and may cause the program to terminate abruptly or exhibit undefined behavior. Essentially, the program \"crashes\" when an unhandled exception occurs."
   ]
  },
  {
   "cell_type": "markdown",
   "id": "4e4a2f7e-314b-4a08-96d7-870ee0a3af13",
   "metadata": {},
   "source": [
    "def divide(a, b):\n",
    "    return a / b\n",
    "\n",
    "result = divide(5, 0)\n",
    "print(result)\n",
    "\n",
    "In this code, the function divide attempts to perform a division operation. However, dividing by zero raises a ZeroDivisionError exception. If this exception is not handled, the program will terminate abruptly, and the user won't receive any indication of what went wrong.\n",
    "\n",
    "To handle the exception and provide a more graceful response, you can use a try-except block:"
   ]
  },
  {
   "cell_type": "code",
   "execution_count": 2,
   "id": "7c21d9cf-af89-493b-913d-a2ef4137c2ea",
   "metadata": {},
   "outputs": [
    {
     "name": "stdout",
     "output_type": "stream",
     "text": [
      "Error: Division by zero\n"
     ]
    }
   ],
   "source": [
    "def divide(a, b):\n",
    "    try:\n",
    "        return a / b\n",
    "    except ZeroDivisionError:\n",
    "        return \"Error: Division by zero\"\n",
    "\n",
    "result = divide(5, 0)\n",
    "print(result)\n"
   ]
  },
  {
   "cell_type": "markdown",
   "id": "62915493-6890-49d3-bf0c-820f591ce1d6",
   "metadata": {},
   "source": [
    "Ans 3 - In Python, the try, except, else, and finally statements are used to handle exceptions:\n",
    "\n",
    "try: This block is used to enclose the code that might raise an exception.\n",
    "except: This block catches and handles the exception. It executes if an exception occurs in the try block.\n",
    "else: This block executes if no exceptions are raised in the try block.\n",
    "finally: This block always executes, regardless of whether an exception occurred or not. It's typically used to perform cleanup actions"
   ]
  },
  {
   "cell_type": "code",
   "execution_count": 3,
   "id": "c38bb7d4-1931-448d-9a25-16850a163b69",
   "metadata": {},
   "outputs": [
    {
     "name": "stdin",
     "output_type": "stream",
     "text": [
      "Enter a number:  124\n"
     ]
    },
    {
     "name": "stdout",
     "output_type": "stream",
     "text": [
      "Result: 0.08064516129032258\n",
      "No exceptions occurred.\n",
      "This finally block always executes.\n"
     ]
    }
   ],
   "source": [
    "try:\n",
    "    x = int(input(\"Enter a number: \"))\n",
    "    y = 10 / x\n",
    "    print(\"Result:\", y)\n",
    "except ZeroDivisionError:\n",
    "    print(\"Error: Cannot divide by zero!\")\n",
    "except ValueError:\n",
    "    print(\"Error: Please enter a valid number!\")\n",
    "else:\n",
    "    print(\"No exceptions occurred.\")\n",
    "finally:\n",
    "    print(\"This finally block always executes.\")\n"
   ]
  },
  {
   "cell_type": "markdown",
   "id": "ab1194c0-36ec-40e3-8847-c56498e3cf35",
   "metadata": {},
   "source": [
    "In this example:\n",
    "\n",
    "The try block attempts to perform division and converts the user input to an integer.\n",
    "If a ZeroDivisionError or ValueError occurs, the corresponding except block handles it.\n",
    "If no exceptions occur, the else block executes.\n",
    "The finally block always executes, whether an exception occurred or not, and is commonly used for cleanup tasks.\n",
    "This structure allows for graceful handling of exceptions, ensuring that the program can recover from errors and continue executing as intended."
   ]
  },
  {
   "cell_type": "markdown",
   "id": "7243079c-f1f4-49d8-8563-243b3e9daa64",
   "metadata": {},
   "source": [
    "Ans 4 - \n",
    "It seems like you're asking about the use of the try, else, and finally blocks together in Python, along with the concept of raising exceptions. Let's break down each part:\n",
    "\n",
    "try block: This is where you place the code that you expect might raise an exception. If an exception occurs within this block, Python looks for an appropriate exception handler (an except block) to handle the exception.\n",
    "\n",
    "else block: The else block is executed if the code in the try block executes successfully without raising any exceptions. It's typically used for code that should only run if no exceptions occur.\n",
    "\n",
    "finally block: The finally block is always executed, regardless of whether an exception occurs or not. It's typically used for cleanup tasks that must be performed, such as closing files or releasing resources. This block ensures that resources are always properly released, even if an exception occurs.\n",
    "\n",
    "raising exceptions: In Python, you can manually raise exceptions using the raise statement. This is often done when certain conditions are met and you want to explicitly signal an error or exceptional condition in your code.\n",
    "\n",
    "Here's an example that demonstrates the use of try, else, finally, and raising exceptions:\n",
    "\n",
    "p"
   ]
  },
  {
   "cell_type": "code",
   "execution_count": 4,
   "id": "3d7b24c5-4fc1-414f-ae6c-4717bffe6032",
   "metadata": {},
   "outputs": [
    {
     "name": "stdout",
     "output_type": "stream",
     "text": [
      "Division was successful. Result: 5.0\n",
      "Cleanup: This block always executes, regardless of exceptions.\n",
      "Error: Cannot divide by zero!\n",
      "Cleanup: This block always executes, regardless of exceptions.\n"
     ]
    }
   ],
   "source": [
    "def divide(x, y):\n",
    "    try:\n",
    "        result = x / y\n",
    "    except ZeroDivisionError:\n",
    "        print(\"Error: Cannot divide by zero!\")\n",
    "    else:\n",
    "        print(\"Division was successful. Result:\", result)\n",
    "    finally:\n",
    "        print(\"Cleanup: This block always executes, regardless of exceptions.\")\n",
    "\n",
    "# Example usage\n",
    "divide(10, 2)  # Successful division\n",
    "divide(10, 0)  # Division by zero error\n"
   ]
  },
  {
   "cell_type": "markdown",
   "id": "1e951416-5ca7-408f-b4e0-e50d7d718ae5",
   "metadata": {},
   "source": [
    "Ans 5 - Custom exceptions in Python are user-defined exceptions that extend the base Exception class or one of its subclasses. They allow developers to define their own types of exceptions to handle specific error conditions within their code.\n",
    "\n",
    "Here's why we might need custom exceptions:\n",
    "\n",
    "Specificity: Custom exceptions allow us to define more specific error conditions that are meaningful within the context of our application. This makes it easier to understand and debug errors.\n",
    "\n",
    "Modularity: By defining custom exceptions, we can encapsulate error-handling logic in separate modules or classes, promoting code modularity and maintainability.\n",
    "\n",
    "Clarity: Custom exceptions improve code readability by clearly indicating the types of errors that can occur and providing descriptive error messages."
   ]
  },
  {
   "cell_type": "code",
   "execution_count": 5,
   "id": "4cab28b0-8e6e-4da3-96e4-fbacfe94f146",
   "metadata": {},
   "outputs": [
    {
     "name": "stdout",
     "output_type": "stream",
     "text": [
      "Balance cannot be negative: -50\n"
     ]
    }
   ],
   "source": [
    "class BalanceError(Exception):\n",
    "    \"\"\"Custom exception raised when balance becomes negative.\"\"\"\n",
    "    def __init__(self, balance):\n",
    "        super().__init__(f\"Balance cannot be negative: {balance}\")\n",
    "        self.balance = balance\n",
    "\n",
    "class Account:\n",
    "    def __init__(self, balance):\n",
    "        self.balance = balance\n",
    "\n",
    "    def withdraw(self, amount):\n",
    "        new_balance = self.balance - amount\n",
    "        if new_balance < 0:\n",
    "            raise BalanceError(new_balance)\n",
    "        else:\n",
    "            self.balance = new_balance\n",
    "\n",
    "# Example usage\n",
    "try:\n",
    "    acc = Account(100)\n",
    "    acc.withdraw(150)  # This should raise a BalanceError\n",
    "except BalanceError as e:\n",
    "    print(e)  # Output: Balance cannot be negative: -50\n"
   ]
  },
  {
   "cell_type": "code",
   "execution_count": null,
   "id": "e31a326a-a872-4598-8be3-ffc3d151bfc9",
   "metadata": {},
   "outputs": [],
   "source": [
    "# Ans 6 - "
   ]
  }
 ],
 "metadata": {
  "kernelspec": {
   "display_name": "Python 3 (ipykernel)",
   "language": "python",
   "name": "python3"
  },
  "language_info": {
   "codemirror_mode": {
    "name": "ipython",
    "version": 3
   },
   "file_extension": ".py",
   "mimetype": "text/x-python",
   "name": "python",
   "nbconvert_exporter": "python",
   "pygments_lexer": "ipython3",
   "version": "3.10.8"
  }
 },
 "nbformat": 4,
 "nbformat_minor": 5
}
