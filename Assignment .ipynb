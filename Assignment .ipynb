{
 "cells": [
  {
   "cell_type": "code",
   "execution_count": 1,
   "id": "13de2008-2add-4815-bb67-78f261918283",
   "metadata": {},
   "outputs": [
    {
     "name": "stdin",
     "output_type": "stream",
     "text": [
      "Enter percentage:  76\n"
     ]
    },
    {
     "name": "stdout",
     "output_type": "stream",
     "text": [
      "Grade: C\n"
     ]
    }
   ],
   "source": [
    "# Accept percentage from the user\n",
    "percentage = float(input(\"Enter percentage: \"))\n",
    "\n",
    "# Determine grade based on percentage\n",
    "if percentage > 90:\n",
    "    grade = \"A\"\n",
    "elif percentage > 80:\n",
    "    grade = \"B\"\n",
    "elif percentage >= 60:\n",
    "    grade = \"C\"\n",
    "else:\n",
    "    grade = \"D\"\n",
    "\n",
    "# Display the grade\n",
    "print(\"Grade:\", grade)\n",
    "\n"
   ]
  },
  {
   "cell_type": "code",
   "execution_count": 2,
   "id": "61a4a231-bb49-445a-a1c4-3a9afb131c31",
   "metadata": {},
   "outputs": [
    {
     "name": "stdin",
     "output_type": "stream",
     "text": [
      "Enter the cost price of the bike (in Rs):  1313\n"
     ]
    },
    {
     "name": "stdout",
     "output_type": "stream",
     "text": [
      "Road tax to be paid: Rs. 65.65\n"
     ]
    }
   ],
   "source": [
    "# Accept the cost price of the bike from the user\n",
    "cost_price = float(input(\"Enter the cost price of the bike (in Rs): \"))\n",
    "\n",
    "# Determine the road tax based on the cost price\n",
    "if cost_price > 100000:\n",
    "    road_tax = cost_price * 0.15\n",
    "elif cost_price > 50000:\n",
    "    road_tax = cost_price * 0.10\n",
    "else:\n",
    "    road_tax = cost_price * 0.05\n",
    "\n",
    "# Display the road tax to be paid\n",
    "print(\"Road tax to be paid: Rs.\", road_tax)\n"
   ]
  },
  {
   "cell_type": "code",
   "execution_count": 4,
   "id": "a44e2825-ef19-4840-aacc-3f7571a55c67",
   "metadata": {},
   "outputs": [
    {
     "name": "stdin",
     "output_type": "stream",
     "text": [
      "Enter the name of the city:  Delhi\n"
     ]
    },
    {
     "name": "stdout",
     "output_type": "stream",
     "text": [
      "Monuments in Delhi:\n",
      "- Red Fort\n"
     ]
    }
   ],
   "source": [
    "# Create a dictionary mapping cities to their monuments\n",
    "city_monuments = {\n",
    "    \"Delhi\": [\"Red Fort\"],\n",
    "    \"Agra\": [\"Taj Mahal\"],\n",
    "    \"Jaipur\": [\"Jal Mahal\"]\n",
    "}\n",
    "\n",
    "# Accept the city name from the user\n",
    "city = input(\"Enter the name of the city: \")\n",
    "\n",
    "# Display the monuments of the specified city\n",
    "if city in city_monuments:\n",
    "    print(\"Monuments in\", city + \":\")\n",
    "    for monument in city_monuments[city]:\n",
    "        print(\"-\", monument)\n",
    "else:\n",
    "    print(\"No monuments found for the specified city.\")\n"
   ]
  },
  {
   "cell_type": "code",
   "execution_count": 5,
   "id": "9c6e7591-54c4-4f94-b65d-95afa68ce7f5",
   "metadata": {},
   "outputs": [
    {
     "name": "stdin",
     "output_type": "stream",
     "text": [
      "Enter a number:  134\n"
     ]
    },
    {
     "name": "stdout",
     "output_type": "stream",
     "text": [
      "Number of times the given number can be divided by 3 before it is less than or equal to 10: 3\n"
     ]
    }
   ],
   "source": [
    "# Accept the given number from the user\n",
    "number = int(input(\"Enter a number: \"))\n",
    "\n",
    "# Initialize a counter to keep track of the number of divisions\n",
    "count = 0\n",
    "\n",
    "# Divide the number by 3 repeatedly until it is less than or equal to 10\n",
    "while number > 10:\n",
    "    number /= 3\n",
    "    count += 1\n",
    "\n",
    "# Display the number of divisions required\n",
    "print(\"Number of times the given number can be divided by 3 before it is less than or equal to 10:\", count)\n"
   ]
  },
  {
   "cell_type": "markdown",
   "id": "9a2c01f2-b006-4724-8cd3-e349dded327b",
   "metadata": {},
   "source": [
    "Ans 5 ---\n",
    "The while loop in Python is used when you want to execute a block of code repeatedly based on a condition. It's suitable when you don't know the number of iterations beforehand or when the termination condition depends on dynamic factors. For example, in a guessing game, you can use a while loop to continue asking the player for guesses until they guess correctly."
   ]
  },
  {
   "cell_type": "code",
   "execution_count": 7,
   "id": "2a6db462-1b8c-455b-89b0-0d322c2ece46",
   "metadata": {},
   "outputs": [
    {
     "name": "stdout",
     "output_type": "stream",
     "text": [
      "1\n",
      "12\n",
      "123\n",
      "1234\n",
      "12345\n"
     ]
    }
   ],
   "source": [
    "row = 1\n",
    "while row <= 5:\n",
    "    col = 1\n",
    "    while col <= row:\n",
    "        print(col, end='')\n",
    "        col += 1\n",
    "    print()\n",
    "    row += 1\n"
   ]
  },
  {
   "cell_type": "code",
   "execution_count": 9,
   "id": "24c29995-15b0-463b-bcff-b3cfbee4fc64",
   "metadata": {},
   "outputs": [
    {
     "name": "stdout",
     "output_type": "stream",
     "text": [
      "*****\n",
      "****\n",
      "***\n",
      "**\n",
      "*\n"
     ]
    }
   ],
   "source": [
    "row = 5\n",
    "while row >= 1:\n",
    "    col = 1\n",
    "    while col <= row:\n",
    "        print('*', end='')\n",
    "        col += 1\n",
    "    print()\n",
    "    row -= 1\n"
   ]
  },
  {
   "cell_type": "code",
   "execution_count": 10,
   "id": "4fdde775-e8c1-479f-bf20-b4100630d00c",
   "metadata": {},
   "outputs": [
    {
     "name": "stdout",
     "output_type": "stream",
     "text": [
      "1\n",
      "22\n",
      "333\n",
      "4444\n",
      "55555\n"
     ]
    }
   ],
   "source": [
    "row = 1\n",
    "while row <= 5:\n",
    "    col = 1\n",
    "    while col <= row:\n",
    "        print(row, end='')\n",
    "        col += 1\n",
    "    print()\n",
    "    row += 1\n"
   ]
  },
  {
   "cell_type": "code",
   "execution_count": 11,
   "id": "f872a948-325a-4529-8192-64668efb7ab4",
   "metadata": {},
   "outputs": [
    {
     "name": "stdout",
     "output_type": "stream",
     "text": [
      "10\n",
      "9\n",
      "8\n",
      "7\n",
      "6\n",
      "5\n",
      "4\n",
      "3\n",
      "2\n",
      "1\n"
     ]
    }
   ],
   "source": [
    "num = 10\n",
    "while num >= 1:\n",
    "    print(num)\n",
    "    num -= 1\n"
   ]
  },
  {
   "cell_type": "code",
   "execution_count": null,
   "id": "0ba363b5-8c17-453f-ae45-23083f2f5e48",
   "metadata": {},
   "outputs": [],
   "source": []
  }
 ],
 "metadata": {
  "kernelspec": {
   "display_name": "Python 3 (ipykernel)",
   "language": "python",
   "name": "python3"
  },
  "language_info": {
   "codemirror_mode": {
    "name": "ipython",
    "version": 3
   },
   "file_extension": ".py",
   "mimetype": "text/x-python",
   "name": "python",
   "nbconvert_exporter": "python",
   "pygments_lexer": "ipython3",
   "version": "3.10.8"
  }
 },
 "nbformat": 4,
 "nbformat_minor": 5
}
