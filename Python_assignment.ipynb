{
 "cells": [
  {
   "cell_type": "markdown",
   "id": "8a12410b-11eb-446f-8886-d91fed20f27f",
   "metadata": {},
   "source": [
    "Q1. Explain with an example each when to use a for loop and a while loop."
   ]
  },
  {
   "cell_type": "raw",
   "id": "97323b7d-db63-4ed2-9e92-a105a6d0fb13",
   "metadata": {},
   "source": [
    "For Loop:\n",
    "Use Case: When you know the number of iterations or the range over which you want to iterate."
   ]
  },
  {
   "cell_type": "code",
   "execution_count": 1,
   "id": "11227548-160a-47bd-85da-44401bee7831",
   "metadata": {},
   "outputs": [
    {
     "name": "stdout",
     "output_type": "stream",
     "text": [
      "1\n",
      "2\n",
      "3\n",
      "4\n",
      "5\n"
     ]
    }
   ],
   "source": [
    "##Example: Suppose you want to print numbers from 1 to 5. You know the exact range of numbers you want to iterate over.\n",
    "for i in range(1, 6):\n",
    "    print(i)\n"
   ]
  },
  {
   "cell_type": "raw",
   "id": "3945fcfc-5b7e-41ee-b7d4-307e04b4750d",
   "metadata": {},
   "source": [
    "While Loop:\n",
    "Use Case: When you don't know the number of iterations beforehand and you want to iterate until a certain condition is met."
   ]
  },
  {
   "cell_type": "code",
   "execution_count": 3,
   "id": "4c15c06f-a137-4225-bfa5-33703f16de9d",
   "metadata": {},
   "outputs": [
    {
     "name": "stdin",
     "output_type": "stream",
     "text": [
      "Enter a number (negative to stop):  12\n"
     ]
    },
    {
     "name": "stdout",
     "output_type": "stream",
     "text": [
      "12\n"
     ]
    },
    {
     "name": "stdin",
     "output_type": "stream",
     "text": [
      "Enter a number (negative to stop):  -13\n"
     ]
    }
   ],
   "source": [
    "##Example: Printing numbers until the user enters a negative number.\n",
    "num = int(input(\"Enter a number (negative to stop): \"))\n",
    "while num >= 0:\n",
    "    print(num)\n",
    "    num = int(input(\"Enter a number (negative to stop): \"))\n"
   ]
  },
  {
   "cell_type": "markdown",
   "id": "56ae388b-9753-437f-871a-8bea07a1c9b9",
   "metadata": {},
   "source": [
    "Q-2 Write a python program to print the sum and product of the first 10 natural numbers using for\n",
    "and while loop."
   ]
  },
  {
   "cell_type": "code",
   "execution_count": 4,
   "id": "d2b96107-ff76-43ae-bfd7-c15510435e11",
   "metadata": {},
   "outputs": [
    {
     "name": "stdout",
     "output_type": "stream",
     "text": [
      "Sum of first 10 natural numbers: 55\n",
      "Product of first 10 natural numbers: 3628800\n"
     ]
    }
   ],
   "source": [
    "# Sum and product of first 10 natural numbers using for loop\n",
    "sum_for = 0\n",
    "product_for = 1\n",
    "\n",
    "for i in range(1, 11):\n",
    "    sum_for += i\n",
    "    product_for *= i\n",
    "\n",
    "print(\"Sum of first 10 natural numbers:\", sum_for)\n",
    "print(\"Product of first 10 natural numbers:\", product_for)\n"
   ]
  },
  {
   "cell_type": "code",
   "execution_count": 5,
   "id": "96075122-172d-4baa-a87d-1967511d3903",
   "metadata": {},
   "outputs": [
    {
     "name": "stdout",
     "output_type": "stream",
     "text": [
      "Sum of first 10 natural numbers: 55\n",
      "Product of first 10 natural numbers: 3628800\n"
     ]
    }
   ],
   "source": [
    "# Sum and product of first 10 natural numbers using while loop\n",
    "sum_while = 0\n",
    "product_while = 1\n",
    "num = 1\n",
    "\n",
    "while num <= 10:\n",
    "    sum_while += num\n",
    "    product_while *= num\n",
    "    num += 1\n",
    "\n",
    "print(\"Sum of first 10 natural numbers:\", sum_while)\n",
    "print(\"Product of first 10 natural numbers:\", product_while)\n"
   ]
  },
  {
   "cell_type": "markdown",
   "id": "186790ff-cad7-4366-9e25-45c5a3ccedd5",
   "metadata": {},
   "source": [
    "Q3. Create a python program to compute the electricity bill for a household.\n",
    "The per-unit charges in rupees are as follows: For the first 100 units, the user will be charged Rs. 4.5 per\n",
    "unit, for the next 100 units, the user will be charged Rs. 6 per unit, and for the next 100 units, the user will\n",
    "be charged Rs. 10 per unit, After 300 units and above the user will be charged Rs. 20 per unit.\n",
    "You are required to take the units of electricity consumed in a month from the user as input.\n",
    "Your program must pass this test case: when the unit of electricity consumed by the user in a month is\n",
    "310, the total electricity bill should be 2250."
   ]
  },
  {
   "cell_type": "code",
   "execution_count": 7,
   "id": "84d55048-3fa9-470f-8f0b-6c7a64bd2d10",
   "metadata": {},
   "outputs": [
    {
     "name": "stdin",
     "output_type": "stream",
     "text": [
      "Enter the total units consumed:  12\n"
     ]
    },
    {
     "name": "stdout",
     "output_type": "stream",
     "text": [
      "Electricity bill: Rs. 54.0\n"
     ]
    }
   ],
   "source": [
    "def calculate_electricity_bill(units):\n",
    "    \"\"\"\n",
    "    Calculate the electricity bill for a household based on the units consumed.\n",
    "    \n",
    "    Args:\n",
    "    units (int): The total units of electricity consumed.\n",
    "    \n",
    "    Returns:\n",
    "    float: The calculated electricity bill.\n",
    "    \"\"\"\n",
    "    # Electricity tariff rates\n",
    "    rate_1 = 4.5  # For first 100 units, rate is Rs. 4.5 per unit\n",
    "    rate_2 = 6.0  # For next 100 units, rate is Rs. 6 per unit\n",
    "    rate_3 = 10.0 # For next 100 units, rate is Rs. 10 per unit\n",
    "    rate_4 = 20.0 # For units above 300, rate is Rs. 20 per unit\n",
    "    \n",
    "    total_bill = 0.0\n",
    "    \n",
    "    if units <= 100:\n",
    "        total_bill = units * rate_1\n",
    "    elif units <= 200:\n",
    "        total_bill = 100 * rate_1 + (units - 100) * rate_2\n",
    "    elif units <= 300:\n",
    "        total_bill = 100 * rate_1 + 100 * rate_2 + (units - 200) * rate_3\n",
    "    else:\n",
    "        total_bill = 100 * rate_1 + 100 * rate_2 + 100 * rate_3 + (units - 300) * rate_4\n",
    "    \n",
    "    return total_bill\n",
    "\n",
    "# Example usage:\n",
    "units_consumed = int(input(\"Enter the total units consumed: \"))\n",
    "bill_amount = calculate_electricity_bill(units_consumed)\n",
    "print(\"Electricity bill: Rs.\", bill_amount)\n"
   ]
  },
  {
   "cell_type": "markdown",
   "id": "4e702b51-735c-4943-b8fb-c5fc047eaeab",
   "metadata": {},
   "source": [
    "Q4. Create a list of numbers from 1 to 100. Use for loop and while loop to calculate the cube of each\n",
    "number and if the cube of that number is divisible by 4 or 5 then append that number in a list and print\n",
    "that list."
   ]
  },
  {
   "cell_type": "code",
   "execution_count": 8,
   "id": "792859ef-6537-4d46-b14c-a27ed209e83a",
   "metadata": {},
   "outputs": [
    {
     "name": "stdout",
     "output_type": "stream",
     "text": [
      "Numbers whose cubes are divisible by 4 or 5: [2, 4, 5, 6, 8, 10, 12, 14, 15, 16, 18, 20, 22, 24, 25, 26, 28, 30, 32, 34, 35, 36, 38, 40, 42, 44, 45, 46, 48, 50, 52, 54, 55, 56, 58, 60, 62, 64, 65, 66, 68, 70, 72, 74, 75, 76, 78, 80, 82, 84, 85, 86, 88, 90, 92, 94, 95, 96, 98, 100]\n"
     ]
    }
   ],
   "source": [
    "# Using for loop\n",
    "cubes_list = []\n",
    "\n",
    "for num in range(1, 101):\n",
    "    cube = num ** 3\n",
    "    if cube % 4 == 0 or cube % 5 == 0:\n",
    "        cubes_list.append(num)\n",
    "\n",
    "print(\"Numbers whose cubes are divisible by 4 or 5:\", cubes_list)\n"
   ]
  },
  {
   "cell_type": "markdown",
   "id": "cd6480b2-9356-432d-8a10-34039292b8c1",
   "metadata": {},
   "source": [
    "Q5. Write a program to filter count vowels in the below-given string.\n",
    "string = \"I want to become a data scientist\""
   ]
  },
  {
   "cell_type": "code",
   "execution_count": 9,
   "id": "ea97bd00-eb1e-4d2d-aa56-d995dd98743d",
   "metadata": {},
   "outputs": [
    {
     "name": "stdout",
     "output_type": "stream",
     "text": [
      "Number of vowels in the string: 12\n"
     ]
    }
   ],
   "source": [
    "# Define the string\n",
    "string = \"I want to become a data scientist\"\n",
    "\n",
    "# Define a list of vowels\n",
    "vowels = ['a', 'e', 'i', 'o', 'u']\n",
    "\n",
    "# Initialize a counter for vowels\n",
    "vowel_count = 0\n",
    "\n",
    "# Loop through each character in the string\n",
    "for char in string:\n",
    "    # Check if the character is a vowel and increment the count if it is\n",
    "    if char.lower() in vowels:\n",
    "        vowel_count += 1\n",
    "\n",
    "# Print the count of vowels\n",
    "print(\"Number of vowels in the string:\", vowel_count)\n"
   ]
  },
  {
   "cell_type": "code",
   "execution_count": null,
   "id": "cf8ae953-678b-4027-9509-0c8a734b4adb",
   "metadata": {},
   "outputs": [],
   "source": []
  }
 ],
 "metadata": {
  "kernelspec": {
   "display_name": "Python 3 (ipykernel)",
   "language": "python",
   "name": "python3"
  },
  "language_info": {
   "codemirror_mode": {
    "name": "ipython",
    "version": 3
   },
   "file_extension": ".py",
   "mimetype": "text/x-python",
   "name": "python",
   "nbconvert_exporter": "python",
   "pygments_lexer": "ipython3",
   "version": "3.10.8"
  }
 },
 "nbformat": 4,
 "nbformat_minor": 5
}
