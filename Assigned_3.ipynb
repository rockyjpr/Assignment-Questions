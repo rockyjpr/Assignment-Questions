{
 "cells": [
  {
   "cell_type": "markdown",
   "id": "bc8513cf",
   "metadata": {},
   "source": [
    "Q1. Explain why we have to use the Exception class while creating a Custom Exception."
   ]
  },
  {
   "cell_type": "markdown",
   "id": "39241fcf",
   "metadata": {},
   "source": [
    "In Python, when creating custom exceptions, it's important to inherit from the built-in Exception class or one of its subclasses. Here's why:\n",
    "\n",
    "Standardization: In Python, exceptions are represented as classes. By inheriting from the Exception class, your custom exception follows the standard conventions of Python exception handling. This makes your custom exception recognizable and consistent with other exceptions in Python, enhancing code clarity and maintainability.\n",
    "\n",
    "Compatibility: Python's exception handling mechanism is designed to work with exceptions that are derived from the Exception class. By using Exception as the base class for your custom exception, you ensure that it integrates seamlessly with existing error-handling mechanisms, such as try-except blocks and exception propagation.\n",
    "\n",
    "Exception Hierarchy: Python's exception hierarchy is organized in a tree-like structure, with Exception as the root. Deriving your custom exception from this base class allows it to fit into the existing hierarchy, facilitating categorization and handling of exceptions based on their types and relationships.\n",
    "\n",
    "Broad Error Handling: Inheriting from Exception allows your custom exception to be caught by broad exception handlers, such as except Exception:. This enables more flexible and comprehensive error handling, as your custom exception can be handled alongside other built-in exceptions without requiring separate handling logic.\n",
    "\n",
    "Documentation and Readability: Using the Exception class as the base class for custom exceptions improves code readability and documentation. Other developers encountering your custom exception will immediately recognize it as an exception type, making it easier to understand its purpose and behavior within the codebase.\n",
    "\n",
    "Access to Exception Properties and Methods: Inheriting from Exception grants your custom exception access to properties and methods defined in the base class. This includes attributes like the exception message (__str__()), traceback information (__traceback__), and other methods for customizing exception behavior. Leveraging these capabilities can enhance the functionality and usefulness of your custom exception.\n",
    "\n",
    "Overall, using the Exception class as the base class for custom exceptions in Python ensures consistency, compatibility, and clarity in exception handling. It promotes good coding practices and facilitates effective error management in Python applications."
   ]
  },
  {
   "cell_type": "markdown",
   "id": "1042403f",
   "metadata": {},
   "source": [
    "Q2. Write a python program to print Python Exception Hierarchy."
   ]
  },
  {
   "cell_type": "code",
   "execution_count": 1,
   "id": "eafd4138",
   "metadata": {},
   "outputs": [
    {
     "name": "stdout",
     "output_type": "stream",
     "text": [
      "Python Exception Hierarchy:\n",
      "BaseException\n",
      "    BaseExceptionGroup\n",
      "        ExceptionGroup\n",
      "    Exception\n",
      "        ArithmeticError\n",
      "            FloatingPointError\n",
      "            OverflowError\n",
      "            ZeroDivisionError\n",
      "                DivisionByZero\n",
      "                DivisionUndefined\n",
      "            DecimalException\n",
      "                Clamped\n",
      "                Rounded\n",
      "                    Underflow\n",
      "                    Overflow\n",
      "                Inexact\n",
      "                    Underflow\n",
      "                    Overflow\n",
      "                Subnormal\n",
      "                    Underflow\n",
      "                DivisionByZero\n",
      "                FloatOperation\n",
      "                InvalidOperation\n",
      "                    ConversionSyntax\n",
      "                    DivisionImpossible\n",
      "                    DivisionUndefined\n",
      "                    InvalidContext\n",
      "        AssertionError\n",
      "        AttributeError\n",
      "            FrozenInstanceError\n",
      "        BufferError\n",
      "        EOFError\n",
      "            IncompleteReadError\n",
      "        ImportError\n",
      "            ModuleNotFoundError\n",
      "                PackageNotFoundError\n",
      "            ZipImportError\n",
      "        LookupError\n",
      "            IndexError\n",
      "            KeyError\n",
      "                NoSuchKernel\n",
      "                UnknownBackend\n",
      "            CodecRegistryError\n",
      "        MemoryError\n",
      "        NameError\n",
      "            UnboundLocalError\n",
      "        OSError\n",
      "            BlockingIOError\n",
      "            ChildProcessError\n",
      "            ConnectionError\n",
      "                BrokenPipeError\n",
      "                ConnectionAbortedError\n",
      "                ConnectionRefusedError\n",
      "                ConnectionResetError\n",
      "                    RemoteDisconnected\n",
      "            FileExistsError\n",
      "            FileNotFoundError\n",
      "            InterruptedError\n",
      "                InterruptedSystemCall\n",
      "            IsADirectoryError\n",
      "            NotADirectoryError\n",
      "            PermissionError\n",
      "            ProcessLookupError\n",
      "            TimeoutError\n",
      "            UnsupportedOperation\n",
      "            herror\n",
      "            gaierror\n",
      "            SSLError\n",
      "                SSLCertVerificationError\n",
      "                SSLZeroReturnError\n",
      "                SSLWantWriteError\n",
      "                SSLWantReadError\n",
      "                SSLSyscallError\n",
      "                SSLEOFError\n",
      "            Error\n",
      "                SameFileError\n",
      "            SpecialFileError\n",
      "            ExecError\n",
      "            ReadError\n",
      "            URLError\n",
      "                HTTPError\n",
      "                ContentTooShortError\n",
      "            BadGzipFile\n",
      "        ReferenceError\n",
      "        RuntimeError\n",
      "            NotImplementedError\n",
      "                ZMQVersionError\n",
      "                StdinNotImplementedError\n",
      "            RecursionError\n",
      "            _DeadlockError\n",
      "            BrokenBarrierError\n",
      "            BrokenExecutor\n",
      "                BrokenThreadPool\n",
      "            SendfileNotAvailableError\n",
      "            BrokenBarrierError\n",
      "            ExtractionError\n",
      "            VariableError\n",
      "        StopAsyncIteration\n",
      "        StopIteration\n",
      "        SyntaxError\n",
      "            IndentationError\n",
      "                TabError\n",
      "        SystemError\n",
      "            CodecRegistryError\n",
      "        TypeError\n",
      "            FloatOperation\n",
      "            MultipartConversionError\n",
      "        ValueError\n",
      "            UnicodeError\n",
      "                UnicodeDecodeError\n",
      "                UnicodeEncodeError\n",
      "                UnicodeTranslateError\n",
      "            UnsupportedOperation\n",
      "            JSONDecodeError\n",
      "            SSLCertVerificationError\n",
      "            Error\n",
      "            UnsupportedDigestmodError\n",
      "            IllegalMonthError\n",
      "            IllegalWeekdayError\n",
      "            ParserError\n",
      "            MessageDefect\n",
      "                NoBoundaryInMultipartDefect\n",
      "                StartBoundaryNotFoundDefect\n",
      "                CloseBoundaryNotFoundDefect\n",
      "                FirstHeaderLineIsContinuationDefect\n",
      "                MisplacedEnvelopeHeaderDefect\n",
      "                MissingHeaderBodySeparatorDefect\n",
      "                MultipartInvariantViolationDefect\n",
      "                InvalidMultipartContentTransferEncodingDefect\n",
      "                UndecodableBytesDefect\n",
      "                InvalidBase64PaddingDefect\n",
      "                InvalidBase64CharactersDefect\n",
      "                InvalidBase64LengthDefect\n",
      "                HeaderDefect\n",
      "                    InvalidHeaderDefect\n",
      "                    HeaderMissingRequiredValue\n",
      "                    NonPrintableDefect\n",
      "                    ObsoleteHeaderDefect\n",
      "                    NonASCIILocalPartDefect\n",
      "                    InvalidDateDefect\n",
      "            ClassNotFound\n",
      "            ClipboardEmpty\n",
      "            MacroToEdit\n",
      "            InvalidFileException\n",
      "            UnequalIterablesError\n",
      "            InvalidVersion\n",
      "            ELFInvalid\n",
      "            InvalidWheelFilename\n",
      "            InvalidSdistFilename\n",
      "            InvalidSpecifier\n",
      "            InvalidMarker\n",
      "            UndefinedComparison\n",
      "            UndefinedEnvironmentName\n",
      "            InvalidRequirement\n",
      "                RequirementParseError\n",
      "            InvalidVersion\n",
      "        Warning\n",
      "            BytesWarning\n",
      "            DeprecationWarning\n",
      "                ProvisionalWarning\n",
      "            EncodingWarning\n",
      "            FutureWarning\n",
      "                ProvisionalCompleterWarning\n",
      "            ImportWarning\n",
      "            PendingDeprecationWarning\n",
      "            ResourceWarning\n",
      "            RuntimeWarning\n",
      "                ProactorSelectorThreadWarning\n",
      "                UnknownTimezoneWarning\n",
      "                PEP440Warning\n",
      "            SyntaxWarning\n",
      "            UnicodeWarning\n",
      "            UserWarning\n",
      "                GetPassWarning\n",
      "                FormatterWarning\n",
      "            DeprecatedTzFormatWarning\n",
      "            PkgResourcesDeprecationWarning\n",
      "        ExceptionGroup\n",
      "        _OptionError\n",
      "        _Error\n",
      "        error\n",
      "        Error\n",
      "        SubprocessError\n",
      "            CalledProcessError\n",
      "            TimeoutExpired\n",
      "        ZMQBaseError\n",
      "            ZMQError\n",
      "                ContextTerminated\n",
      "                Again\n",
      "                InterruptedSystemCall\n",
      "            ZMQBindError\n",
      "            NotDone\n",
      "        Error\n",
      "        error\n",
      "        PickleError\n",
      "            PicklingError\n",
      "            UnpicklingError\n",
      "        _Stop\n",
      "        TokenError\n",
      "        StopTokenizing\n",
      "        Error\n",
      "            CancelledError\n",
      "            InvalidStateError\n",
      "        _GiveupOnSendfile\n",
      "        Incomplete\n",
      "        ClassFoundException\n",
      "        EndOfBlock\n",
      "        InvalidStateError\n",
      "        LimitOverrunError\n",
      "        QueueEmpty\n",
      "        QueueFull\n",
      "        error\n",
      "        LZMAError\n",
      "        RegistryError\n",
      "        _GiveupOnFastCopy\n",
      "        TraitError\n",
      "        Empty\n",
      "        Full\n",
      "        ArgumentError\n",
      "        COMError\n",
      "        ReturnValueIgnoredError\n",
      "        ArgumentError\n",
      "        ArgumentTypeError\n",
      "        ConfigError\n",
      "            ConfigLoaderError\n",
      "                ArgumentError\n",
      "            ConfigFileNotFound\n",
      "        ConfigurableError\n",
      "            MultipleInstanceError\n",
      "        ApplicationError\n",
      "        InvalidPortNumber\n",
      "        NoIPAddresses\n",
      "        Error\n",
      "        BadZipFile\n",
      "        LargeZipFile\n",
      "        MessageError\n",
      "            MessageParseError\n",
      "                HeaderParseError\n",
      "                BoundaryError\n",
      "            MultipartConversionError\n",
      "            CharsetError\n",
      "        DuplicateKernelError\n",
      "        ErrorDuringImport\n",
      "        NotOneValueFound\n",
      "        CannotEval\n",
      "        OptionError\n",
      "        BdbQuit\n",
      "        Restart\n",
      "        FindCmdError\n",
      "        HomeDirError\n",
      "        ProfileDirError\n",
      "        IPythonCoreError\n",
      "            TryNext\n",
      "            UsageError\n",
      "            StdinNotImplementedError\n",
      "        InputRejected\n",
      "        GetoptError\n",
      "        ErrorToken\n",
      "        PrefilterError\n",
      "        AliasError\n",
      "            InvalidAliasError\n",
      "        Error\n",
      "            InterfaceError\n",
      "            DatabaseError\n",
      "                InternalError\n",
      "                OperationalError\n",
      "                ProgrammingError\n",
      "                IntegrityError\n",
      "                DataError\n",
      "                NotSupportedError\n",
      "        Warning\n",
      "        SpaceInInput\n",
      "        DOMException\n",
      "            IndexSizeErr\n",
      "            DomstringSizeErr\n",
      "            HierarchyRequestErr\n",
      "            WrongDocumentErr\n",
      "            InvalidCharacterErr\n",
      "            NoDataAllowedErr\n",
      "            NoModificationAllowedErr\n",
      "            NotFoundErr\n",
      "            NotSupportedErr\n",
      "            InuseAttributeErr\n",
      "            InvalidStateErr\n",
      "            SyntaxErr\n",
      "            InvalidModificationErr\n",
      "            NamespaceErr\n",
      "            InvalidAccessErr\n",
      "            ValidationErr\n",
      "        ValidationError\n",
      "        EditReadOnlyBuffer\n",
      "        _Retry\n",
      "        InvalidLayoutError\n",
      "        HeightIsUnknownError\n",
      "        GuardRejection\n",
      "        ParserSyntaxError\n",
      "        InternalParseError\n",
      "        _PositionUpdatingFinished\n",
      "        SimpleGetItemNotFound\n",
      "        UncaughtAttributeError\n",
      "        HasNoContext\n",
      "        ParamIssue\n",
      "        _JediError\n",
      "            InternalError\n",
      "            WrongVersion\n",
      "            RefactoringError\n",
      "        OnErrorLeaf\n",
      "        InvalidPythonEnvironment\n",
      "        HTTPException\n",
      "            NotConnected\n",
      "            InvalidURL\n",
      "            UnknownProtocol\n",
      "            UnknownTransferEncoding\n",
      "            UnimplementedFileMode\n",
      "            IncompleteRead\n",
      "            ImproperConnectionState\n",
      "                CannotSendRequest\n",
      "                CannotSendHeader\n",
      "                ResponseNotReady\n",
      "            BadStatusLine\n",
      "                RemoteDisconnected\n",
      "            LineTooLong\n",
      "        InteractivelyDefined\n",
      "        KillEmbedded\n",
      "        Error\n",
      "            NoSuchProcess\n",
      "                ZombieProcess\n",
      "            AccessDenied\n",
      "            TimeoutExpired\n",
      "        Error\n",
      "        TimeoutExpired\n",
      "        TimeoutAbandoned\n",
      "        KeyReuseError\n",
      "        UnknownKeyError\n",
      "        LeakedCallbackError\n",
      "        BadYieldError\n",
      "        ReturnValueIgnoredError\n",
      "        Return\n",
      "        QueueEmpty\n",
      "        QueueFull\n",
      "        ExpatError\n",
      "        Error\n",
      "            ProtocolError\n",
      "            ResponseError\n",
      "            Fault\n",
      "        ParserSyntaxError\n",
      "        ResolutionError\n",
      "            VersionConflict\n",
      "                ContextualVersionConflict\n",
      "            DistributionNotFound\n",
      "            UnknownExtra\n",
      "        UnableToResolveVariableException\n",
      "        InvalidTypeInArgsException\n",
      "        error\n",
      "        com_error\n",
      "    GeneratorExit\n",
      "    KeyboardInterrupt\n",
      "    SystemExit\n",
      "    CancelledError\n",
      "    DebuggerInitializationError\n",
      "    AbortThread\n"
     ]
    }
   ],
   "source": [
    "def print_exception_hierarchy(exception_class, indent=0):\n",
    "    print(' ' * indent + exception_class.__name__)\n",
    "    for subclass in exception_class.__subclasses__():\n",
    "        print_exception_hierarchy(subclass, indent + 4)\n",
    "\n",
    "print(\"Python Exception Hierarchy:\")\n",
    "print_exception_hierarchy(BaseException)\n"
   ]
  },
  {
   "cell_type": "markdown",
   "id": "8f0dd66b",
   "metadata": {},
   "source": [
    "Q3. What errors are defined in the ArithmeticError class? Explain any two with an example."
   ]
  },
  {
   "cell_type": "markdown",
   "id": "9e384f86",
   "metadata": {},
   "source": [
    "The ArithmeticError class in Python serves as a base class for exceptions that occur during arithmetic operations. Some common errors defined within the ArithmeticError class include ZeroDivisionError, OverflowError, and FloatingPointError.\n",
    "\n",
    "Here are explanations and examples for ZeroDivisionError and OverflowError:\n",
    "\n",
    "ZeroDivisionError: This exception occurs when attempting to divide a number by zero."
   ]
  },
  {
   "cell_type": "code",
   "execution_count": 2,
   "id": "d0660098",
   "metadata": {},
   "outputs": [
    {
     "name": "stdout",
     "output_type": "stream",
     "text": [
      "Error: division by zero\n"
     ]
    }
   ],
   "source": [
    "try:\n",
    "    result = 10 / 0\n",
    "except ZeroDivisionError as e:\n",
    "    print(\"Error:\", e)\n"
   ]
  },
  {
   "cell_type": "markdown",
   "id": "c7a1e323",
   "metadata": {},
   "source": [
    "OverflowError: This exception occurs when the result of an arithmetic operation exceeds the maximum limit for a numerical data type."
   ]
  },
  {
   "cell_type": "code",
   "execution_count": 3,
   "id": "36f076bf",
   "metadata": {},
   "outputs": [],
   "source": [
    "import sys\n",
    "\n",
    "try:\n",
    "    result = sys.maxsize + 1\n",
    "except OverflowError as e:\n",
    "    print(\"Error:\", e)\n"
   ]
  },
  {
   "cell_type": "markdown",
   "id": "84caa120",
   "metadata": {},
   "source": [
    "Here, the OverflowError is raised because adding 1 to the maximum integer value (sys.maxsize) exceeds the limit of the integer data type.\n",
    "\n",
    "Both ZeroDivisionError and OverflowError are subclasses of ArithmeticError, indicating that they are specific types of errors that occur during arithmetic operations. Handling these errors appropriately in your code helps prevent unexpected behavior and ensures robust error handling."
   ]
  },
  {
   "cell_type": "markdown",
   "id": "5289e979",
   "metadata": {},
   "source": [
    "Q4. Why LookupError class is used? Explain with an example KeyError and IndexError."
   ]
  },
  {
   "cell_type": "markdown",
   "id": "c44c7a95",
   "metadata": {},
   "source": [
    "\n",
    "The LookupError class in Python is used as a base class for exceptions that occur when a key or index is not found in a collection such as a dictionary, list, or tuple. It serves as a superclass for various lookup-related exceptions. Two common subclasses of LookupError are KeyError and IndexError.\n",
    "\n",
    "KeyError: This exception occurs when trying to access a key that does not exist in a dictionary."
   ]
  },
  {
   "cell_type": "code",
   "execution_count": 4,
   "id": "7a09d343",
   "metadata": {},
   "outputs": [
    {
     "name": "stdout",
     "output_type": "stream",
     "text": [
      "Error: 'd'\n"
     ]
    }
   ],
   "source": [
    "my_dict = {'a': 1, 'b': 2, 'c': 3}\n",
    "\n",
    "try:\n",
    "    value = my_dict['d']\n",
    "except KeyError as e:\n",
    "    print(\"Error:\", e)\n"
   ]
  },
  {
   "cell_type": "markdown",
   "id": "580948da",
   "metadata": {},
   "source": [
    "IndexError: This exception occurs when trying to access an index that is out of range in a sequence like a list or tuple."
   ]
  },
  {
   "cell_type": "code",
   "execution_count": 5,
   "id": "80e36909",
   "metadata": {},
   "outputs": [
    {
     "name": "stdout",
     "output_type": "stream",
     "text": [
      "Error: list index out of range\n"
     ]
    }
   ],
   "source": [
    "my_list = [1, 2, 3]\n",
    "\n",
    "try:\n",
    "    value = my_list[3]\n",
    "except IndexError as e:\n",
    "    print(\"Error:\", e)\n"
   ]
  },
  {
   "cell_type": "markdown",
   "id": "4166d146",
   "metadata": {},
   "source": [
    "Here, the list my_list only has indices 0, 1, and 2. Accessing index 3 raises an IndexError because it is out of range.\n",
    "\n",
    "Both KeyError and IndexError are subclasses of LookupError, which means they inherit common functionality for handling lookup-related errors. By using the LookupError class as the base class, you can catch both KeyError and IndexError (and any other lookup-related errors) in a single except block, providing uniform error handling for cases where a key or index is not found in a collection."
   ]
  },
  {
   "cell_type": "markdown",
   "id": "a27f8fdb",
   "metadata": {},
   "source": [
    "Q5. Explain ImportError. What is ModuleNotFoundError?"
   ]
  },
  {
   "cell_type": "markdown",
   "id": "9d6024e7",
   "metadata": {},
   "source": [
    "\n",
    "In Python, ImportError is an exception that occurs when an import statement fails to locate or load a module. This can happen for various reasons, such as when the module does not exist, is not installed, or there are issues with the module's dependencies."
   ]
  },
  {
   "cell_type": "code",
   "execution_count": 6,
   "id": "08c593a5",
   "metadata": {},
   "outputs": [
    {
     "name": "stdout",
     "output_type": "stream",
     "text": [
      "Error: No module named 'non_existent_module'\n"
     ]
    }
   ],
   "source": [
    "try:\n",
    "    import non_existent_module\n",
    "except ImportError as e:\n",
    "    print(\"Error:\", e)\n"
   ]
  },
  {
   "cell_type": "markdown",
   "id": "c6d2c727",
   "metadata": {},
   "source": [
    "ModuleNotFoundError is a subclass of ImportError introduced in Python 3.6. It specifically indicates that the module being imported could not be found."
   ]
  },
  {
   "cell_type": "code",
   "execution_count": 7,
   "id": "806a72dd",
   "metadata": {},
   "outputs": [
    {
     "name": "stdout",
     "output_type": "stream",
     "text": [
      "Error: No module named 'non_existent_module'\n"
     ]
    }
   ],
   "source": [
    "try:\n",
    "    import non_existent_module\n",
    "except ModuleNotFoundError as e:\n",
    "    print(\"Error:\", e)\n"
   ]
  },
  {
   "cell_type": "markdown",
   "id": "6395d579",
   "metadata": {},
   "source": [
    "As you can see, the error message is the same as with ImportError, but ModuleNotFoundError provides more specificity. It's important to note that ModuleNotFoundError was introduced to improve the clarity and precision of error messages when dealing with missing modules, especially in large and complex projects where debugging import issues can be challenging.\n",
    "\n",
    "In summary, both ImportError and ModuleNotFoundError indicate problems with importing modules, but ModuleNotFoundError is a more specific subclass of ImportError introduced in Python 3.6 to provide clearer error messages when a module cannot be found."
   ]
  },
  {
   "cell_type": "markdown",
   "id": "fe45b675",
   "metadata": {},
   "source": [
    "Q6. List down some best practices for exception handling in python."
   ]
  },
  {
   "cell_type": "markdown",
   "id": "7a5d7edd",
   "metadata": {},
   "source": [
    "Exception handling is a crucial aspect of writing robust and maintainable Python code. Here are some best practices for exception handling in Python:\n",
    "\n",
    "Specific Exception Handling: Catch specific exceptions rather than using broad catch-all clauses like except:. This allows you to handle different types of errors appropriately and provides better error diagnostics.\n",
    "\n",
    "Use Try-Except Blocks Selectively: Place only the code that may raise an exception inside the try block. This keeps the scope of the try block minimal and makes it easier to understand which statements are being protected.\n",
    "\n",
    "Handle Exceptions Gracefully: Handle exceptions gracefully by providing meaningful error messages or logging information. This helps in diagnosing issues and understanding the cause of failures.\n",
    "\n",
    "Avoid Bare Except Clauses: Avoid using except: without specifying the exception type. This can catch unexpected exceptions and hide bugs in the code. Instead, catch specific exceptions or use except Exception: if you need to catch all exceptions.\n",
    "\n",
    "Cleanup with Finally: Use finally blocks to ensure that cleanup code is executed regardless of whether an exception occurs. This is useful for releasing resources or closing files opened in the try block.\n",
    "\n",
    "Prefer EAFP Over LBYL: Pythonic code often follows the principle of \"Easier to Ask for Forgiveness than Permission\" (EAFP). Instead of checking if an operation will succeed before performing it (Look Before You Leap - LBYL), try the operation and handle any resulting exceptions. This leads to cleaner and more concise code.\n",
    "\n",
    "Avoid Swallowing Exceptions: Avoid scenarios where exceptions are caught but not properly handled or logged. Swallowing exceptions can mask errors and make debugging difficult.\n",
    "\n",
    "Custom Exception Classes: Define custom exception classes when appropriate to represent specific error conditions in your application. This enhances readability and allows for better organization of exception handling logic.\n",
    "\n",
    "Keep Error Messages Consistent: Maintain consistency in error messages across your application to make it easier for developers to understand and troubleshoot issues.\n",
    "\n",
    "Unit Testing Exception Handling: Write unit tests to verify that exception handling logic behaves as expected under different error conditions. This helps ensure that your code handles exceptions correctly and gracefully.\n",
    "\n",
    "By following these best practices, you can improve the reliability, readability, and maintainability of your Python code when it comes to exception handling."
   ]
  },
  {
   "cell_type": "code",
   "execution_count": null,
   "id": "a9583029",
   "metadata": {},
   "outputs": [],
   "source": []
  }
 ],
 "metadata": {
  "kernelspec": {
   "display_name": "Python 3 (ipykernel)",
   "language": "python",
   "name": "python3"
  },
  "language_info": {
   "codemirror_mode": {
    "name": "ipython",
    "version": 3
   },
   "file_extension": ".py",
   "mimetype": "text/x-python",
   "name": "python",
   "nbconvert_exporter": "python",
   "pygments_lexer": "ipython3",
   "version": "3.11.3"
  }
 },
 "nbformat": 4,
 "nbformat_minor": 5
}
