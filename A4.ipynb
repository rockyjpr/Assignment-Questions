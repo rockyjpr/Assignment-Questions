{
 "cells": [
  {
   "cell_type": "markdown",
   "id": "d2ccd91f-49ec-48a1-9230-b362c5577279",
   "metadata": {},
   "source": [
    "Q1 - What is Abstraction in OOps? Explain with an example."
   ]
  },
  {
   "cell_type": "markdown",
   "id": "63b8dc02-cccd-4f19-bb5b-363c88a18aaa",
   "metadata": {},
   "source": [
    "Abstraction in object-oriented programming (OOP) is the process of hiding the implementation details of a class and showing only the essential features to the user. It allows the user to focus on what an object does rather than how it achieves its functionality. Abstraction helps in managing complexity by breaking down a system into smaller, more manageable parts.\n",
    "\n",
    "One common way to achieve abstraction in OOP is through abstract classes and interfaces. Abstract classes are classes that cannot be instantiated and may contain one or more abstract methods, which are methods without a body. Subclasses of abstract classes must provide implementations for all abstract methods, thus enforcing the abstraction contract.\n",
    "\n",
    "Here's an example of abstraction using Python:"
   ]
  },
  {
   "cell_type": "code",
   "execution_count": 2,
   "id": "4fa319c2-3555-4120-a961-38e4f17c1e15",
   "metadata": {},
   "outputs": [
    {
     "name": "stdout",
     "output_type": "stream",
     "text": [
      "Area of Rectangle: 20\n",
      "Perimeter of Rectangle: 18\n",
      "Area of Circle: 28.26\n",
      "Perimeter of Circle: 18.84\n"
     ]
    }
   ],
   "source": [
    "from abc import ABC, abstractmethod\n",
    "\n",
    "# Define an abstract class\n",
    "class Shape(ABC):\n",
    "    @abstractmethod\n",
    "    def area(self):\n",
    "        pass\n",
    "    \n",
    "    @abstractmethod\n",
    "    def perimeter(self):\n",
    "        pass\n",
    "\n",
    "# Define a concrete subclass of Shape\n",
    "class Rectangle(Shape):\n",
    "    def __init__(self, width, height):\n",
    "        self.width = width\n",
    "        self.height = height\n",
    "    \n",
    "    def area(self):\n",
    "        return self.width * self.height\n",
    "    \n",
    "    def perimeter(self):\n",
    "        return 2 * (self.width + self.height)\n",
    "\n",
    "# Define another concrete subclass of Shape\n",
    "class Circle(Shape):\n",
    "    def __init__(self, radius):\n",
    "        self.radius = radius\n",
    "    \n",
    "    def area(self):\n",
    "        return 3.14 * self.radius ** 2\n",
    "    \n",
    "    def perimeter(self):\n",
    "        return 2 * 3.14 * self.radius\n",
    "\n",
    "# Create objects of concrete subclasses\n",
    "rectangle = Rectangle(5, 4)\n",
    "circle = Circle(3)\n",
    "\n",
    "# Use the objects without worrying about their internal implementations\n",
    "print(\"Area of Rectangle:\", rectangle.area())  # Output: 20\n",
    "print(\"Perimeter of Rectangle:\", rectangle.perimeter())  # Output: 18\n",
    "print(\"Area of Circle:\", circle.area())  # Output: 28.26\n",
    "print(\"Perimeter of Circle:\", circle.perimeter())  # Output: 18.84\n"
   ]
  },
  {
   "cell_type": "markdown",
   "id": "e86f6871-ece6-4904-8d7b-333224712925",
   "metadata": {},
   "source": [
    "Q2. Differentiate between Abstraction and Encapsulation. Explain with an example."
   ]
  },
  {
   "cell_type": "markdown",
   "id": "7918e494-aa39-4d44-8de4-fb04d6783b26",
   "metadata": {},
   "source": [
    "Abstraction and encapsulation are two fundamental concepts in object-oriented programming, but they serve different purposes and focus on different aspects of software design.\n",
    "\n",
    "Abstraction:\n",
    "Abstraction is the process of hiding the complex implementation details and showing only the essential features of an object.\n",
    "It allows the user to focus on what an object does rather than how it achieves its functionality.\n",
    "Abstraction is achieved through abstract classes, interfaces, and abstract methods.\n",
    "It helps in managing complexity by breaking down a system into smaller, more manageable parts.\n",
    "Encapsulation:\n",
    "Encapsulation is the process of bundling the data (attributes) and methods (functions) that operate on the data into a single unit called a class.\n",
    "It hides the internal state of an object and only exposes the necessary operations to manipulate that state.\n",
    "Encapsulation helps in data hiding, data protection, and modularity.\n",
    "It prevents the direct access of data from outside the class and ensures that data integrity is maintained."
   ]
  },
  {
   "cell_type": "code",
   "execution_count": 3,
   "id": "497a7471-7c37-4eca-bac5-29be16fe0501",
   "metadata": {},
   "outputs": [],
   "source": [
    "class Car:\n",
    "    def __init__(self, make, model):\n",
    "        self.make = make\n",
    "        self.model = model\n",
    "        self.speed = 0\n",
    "\n",
    "    def accelerate(self):\n",
    "        self.speed += 10\n",
    "\n",
    "    def brake(self):\n",
    "        self.speed -= 5\n",
    "\n",
    "    def get_speed(self):\n",
    "        return self.speed\n"
   ]
  },
  {
   "cell_type": "markdown",
   "id": "d0455cd3-c85f-463e-b01b-ee4be1be0f7f",
   "metadata": {},
   "source": [
    "Q3. What is abc module in python? Why is it used?"
   ]
  },
  {
   "cell_type": "markdown",
   "id": "4d5556ea-2c25-49ea-8dc3-824bc5ffa3dd",
   "metadata": {},
   "source": [
    "The abc module in Python stands for \"Abstract Base Classes\". It provides a way to define abstract base classes in Python. An abstract base class is a class that cannot be instantiated directly and is meant to be subclassed by other classes. Abstract base classes can contain one or more abstract methods, which are methods that are declared but not implemented in the base class. Subclasses of abstract base classes must provide implementations for all abstract methods, thus enforcing the abstraction contract.\n",
    "\n",
    "The abc module is used for several purposes:\n",
    "\n",
    "Defining Abstract Base Classes (ABCs): It provides the ABC class and the abstractmethod decorator, which can be used to define abstract base classes and abstract methods, respectively.\n",
    "\n",
    "Enforcing Interface Contracts: Abstract base classes can be used to define interface contracts that subclasses must adhere to. This helps in enforcing a common interface across different implementations.\n",
    "\n",
    "Documentation and Design: Abstract base classes can serve as documentation for the expected behavior of subclasses. They provide a clear indication of the methods that subclasses are expected to implement.\n",
    "\n",
    "Type Checking and Validation: Abstract base classes can be used for type checking and validation. For example, you can use the isinstance() function to check if an object belongs to a specific abstract base class."
   ]
  },
  {
   "cell_type": "markdown",
   "id": "12f643ed-30b1-424c-aa90-e991db871762",
   "metadata": {},
   "source": [
    "Q4. How can we achieve data abstraction?"
   ]
  },
  {
   "cell_type": "markdown",
   "id": "72772af3-7e54-4d2d-9d62-b323760b5a8c",
   "metadata": {},
   "source": [
    "Data abstraction in object-oriented programming is achieved by hiding the internal implementation details of a class and only exposing the necessary features or functionalities to the outside world. This allows users of the class to interact with the object based on its interface, without needing to know how the implementation works internally.\n",
    "\n",
    "Here are some ways to achieve data abstraction in Python:\n",
    "\n",
    "Encapsulation: Encapsulation is the bundling of data (attributes) and methods (functions) that operate on the data into a single unit called a class. By encapsulating data within a class, we hide the internal state of an object and only expose the necessary operations to manipulate that state. Users interact with the object through its public interface (methods), without directly accessing its internal data.\n",
    "\n",
    "Abstraction Classes: Abstract base classes (ABCs) in Python provide a way to define abstract classes and abstract methods. An abstract base class cannot be instantiated directly and serves as a blueprint for subclasses. Abstract methods defined in the abstract base class must be implemented by concrete subclasses, enforcing a common interface across different implementations.\n",
    "\n",
    "Access Modifiers: In Python, we can use access modifiers like public, protected, and private to control the visibility of attributes and methods. By using private attributes and methods, we can restrict access to certain parts of the class, thereby achieving data abstraction.\n",
    "\n",
    "Property Decorators: Property decorators (@property, @property.setter, @property.deleter) allow us to define getter, setter, and deleter methods for class attributes. This enables us to encapsulate the attribute access and implement custom logic for attribute manipulation while presenting a simple interface to the users."
   ]
  },
  {
   "cell_type": "markdown",
   "id": "b18909cb-8548-4875-96e7-90f2ced424db",
   "metadata": {},
   "source": [
    "Q5. Can we create an instance of an abstract class? Explain your answer."
   ]
  },
  {
   "cell_type": "markdown",
   "id": "3d268d1e-e6c5-4d6e-a165-a832a101bb72",
   "metadata": {},
   "source": [
    "No, we cannot create an instance of an abstract class in Python. Abstract classes are meant to serve as blueprints for other classes and cannot be instantiated directly. The primary purpose of an abstract class is to define a common interface that subclasses must adhere to by providing implementations for all abstract methods defined in the abstract class.\n",
    "\n",
    "In Python, abstract classes are created using the abc module and the ABC class, along with the abstractmethod decorator to define abstract methods. Here's an example:"
   ]
  },
  {
   "cell_type": "code",
   "execution_count": 8,
   "id": "a1bc5adb-9bb4-4faf-9cfd-45040bb1c481",
   "metadata": {},
   "outputs": [
    {
     "ename": "TypeError",
     "evalue": "Can't instantiate abstract class Shape with abstract methods area, perimeter",
     "output_type": "error",
     "traceback": [
      "\u001b[0;31m---------------------------------------------------------------------------\u001b[0m",
      "\u001b[0;31mTypeError\u001b[0m                                 Traceback (most recent call last)",
      "Cell \u001b[0;32mIn[8], line 23\u001b[0m\n\u001b[1;32m     20\u001b[0m         \u001b[38;5;28;01mreturn\u001b[39;00m \u001b[38;5;241m2\u001b[39m \u001b[38;5;241m*\u001b[39m \u001b[38;5;241m3.14\u001b[39m \u001b[38;5;241m*\u001b[39m \u001b[38;5;28mself\u001b[39m\u001b[38;5;241m.\u001b[39mradius\n\u001b[1;32m     22\u001b[0m \u001b[38;5;66;03m# Attempt to create an instance of the abstract class\u001b[39;00m\n\u001b[0;32m---> 23\u001b[0m shape \u001b[38;5;241m=\u001b[39m \u001b[43mShape\u001b[49m\u001b[43m(\u001b[49m\u001b[43m)\u001b[49m  \u001b[38;5;66;03m# Raises TypeError: Can't instantiate abstract class Shape with abstract methods area, perimeter\u001b[39;00m\n",
      "\u001b[0;31mTypeError\u001b[0m: Can't instantiate abstract class Shape with abstract methods area, perimeter"
     ]
    }
   ],
   "source": [
    "from abc import ABC, abstractmethod\n",
    "\n",
    "class Shape(ABC):  # Abstract class\n",
    "    @abstractmethod\n",
    "    def area(self):\n",
    "        pass\n",
    "\n",
    "    @abstractmethod\n",
    "    def perimeter(self):\n",
    "        pass\n",
    "\n",
    "class Circle(Shape):  # Concrete subclass\n",
    "    def __init__(self, radius):\n",
    "        self.radius = radius\n",
    "    \n",
    "    def area(self):\n",
    "        return 3.14 * self.radius ** 2\n",
    "    \n",
    "    def perimeter(self):\n",
    "        return 2 * 3.14 * self.radius\n",
    "\n",
    "# Attempt to create an instance of the abstract class\n",
    "shape = Shape()  # Raises TypeError: Can't instantiate abstract class Shape with abstract methods area, perimeter\n"
   ]
  },
  {
   "cell_type": "code",
   "execution_count": null,
   "id": "d843a8a7-a946-435a-b5b0-4675dfe49a6d",
   "metadata": {},
   "outputs": [],
   "source": []
  }
 ],
 "metadata": {
  "kernelspec": {
   "display_name": "Python 3 (ipykernel)",
   "language": "python",
   "name": "python3"
  },
  "language_info": {
   "codemirror_mode": {
    "name": "ipython",
    "version": 3
   },
   "file_extension": ".py",
   "mimetype": "text/x-python",
   "name": "python",
   "nbconvert_exporter": "python",
   "pygments_lexer": "ipython3",
   "version": "3.10.8"
  }
 },
 "nbformat": 4,
 "nbformat_minor": 5
}
