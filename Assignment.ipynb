{
 "cells": [
  {
   "cell_type": "markdown",
   "id": "da06db9a-5635-40a0-bf9f-ba130a2e8e95",
   "metadata": {},
   "source": [
    "Q1. Which function is used to open a file? What are the different modes of opening a file? Explain each mode\n",
    "of file opening."
   ]
  },
  {
   "cell_type": "markdown",
   "id": "ed60eecf-9fb5-4f9e-a203-91929086aaa3",
   "metadata": {},
   "source": [
    "In Python, the open() function is used to open a file. It takes two parameters: the file path/name and the mode in which the file should be opened.\n",
    "\n",
    "Here are the different modes of opening a file:\n",
    "\n",
    "Read mode ('r'): This mode is used for reading data from a file. If the file does not exist or cannot be opened for reading, it raises a FileNotFoundError. This is the default mode if no mode is specified.\n",
    "\n",
    "Write mode ('w'): This mode is used for writing data to a file. If the file does not exist, it creates a new file. If the file exists, it truncates the file to zero length (i.e., erases all its contents) before writing. If the file cannot be opened for writing, it raises a PermissionError.\n",
    "\n",
    "Append mode ('a'): This mode is used for appending data to the end of a file. If the file does not exist, it creates a new file. If the file exists, it starts writing data from the end of the file without truncating the existing content. If the file cannot be opened for appending, it raises a PermissionError.\n",
    "\n",
    "Read and Write mode ('r+'): This mode is used for both reading and writing data to a file. It does not truncate the file before writing. If the file does not exist, it raises a FileNotFoundError.\n",
    "\n",
    "Write and Read mode ('w+'): This mode is used for both reading and writing data to a file. It truncates the file before writing. If the file does not exist, it creates a new file.\n",
    "\n",
    "Append and Read mode ('a+'): This mode is used for both reading and appending data to a file. It does not truncate the file before writing. If the file does not exist, it creates a new file.\n",
    "\n",
    "Each mode provides different functionalities for file handling, such as reading, writing, and appending data, and also dictates how the file should be treated in terms of creation and truncation. It's important to choose the appropriate mode based on the desired file operation.\n",
    "\n",
    "\n",
    "\n",
    "\n",
    "\n",
    "\n"
   ]
  },
  {
   "cell_type": "markdown",
   "id": "f2494292-2acc-4bda-8c60-ae0083cffb21",
   "metadata": {},
   "source": [
    "Q2. Why close() function is used? Why is it important to close a file?"
   ]
  },
  {
   "cell_type": "markdown",
   "id": "d0261819-cc60-48b0-8316-738229deed33",
   "metadata": {},
   "source": [
    "The close() function in Python is used to close an open file object. It's essential to close a file after you've finished working with it for several reasons, as illustrated in the following example:"
   ]
  },
  {
   "cell_type": "code",
   "execution_count": 2,
   "id": "658f72e3-f050-4716-aaac-015dd883d3c4",
   "metadata": {},
   "outputs": [
    {
     "name": "stdout",
     "output_type": "stream",
     "text": [
      "Hello, World!\n"
     ]
    }
   ],
   "source": [
    "# Open a file in write mode and write some data to it\n",
    "file = open(\"example.txt\", \"w\")\n",
    "file.write(\"Hello, World!\")\n",
    "# It's important to close the file after writing to ensure data is flushed to disk\n",
    "file.close()\n",
    "\n",
    "# Open the file again in read mode to read the data\n",
    "file = open(\"example.txt\", \"r\")\n",
    "data = file.read()\n",
    "print(data)\n",
    "file.close()\n"
   ]
  },
  {
   "cell_type": "markdown",
   "id": "4a698efa-f1a2-45dc-a7af-eb16267ad576",
   "metadata": {},
   "source": [
    "Q3. Write a python program to create a text file. Write ‘I want to become a Data Scientist’ in that file. Then\n",
    "close the file. Open this file and read the content of the file."
   ]
  },
  {
   "cell_type": "code",
   "execution_count": 3,
   "id": "9405c9ae-8e42-499a-9058-24f05c4d3c00",
   "metadata": {},
   "outputs": [
    {
     "name": "stdout",
     "output_type": "stream",
     "text": [
      "Content of the file:\n",
      "I want to become a Data Scientist\n"
     ]
    }
   ],
   "source": [
    "# Open the file in write mode ('w')\n",
    "with open(\"data_scientist.txt\", \"w\") as file:\n",
    "    # Write the text to the file\n",
    "    file.write(\"I want to become a Data Scientist\")\n",
    "\n",
    "# Open the file in read mode ('r')\n",
    "with open(\"data_scientist.txt\", \"r\") as file:\n",
    "    # Read the content of the file\n",
    "    content = file.read()\n",
    "    # Print the content\n",
    "    print(\"Content of the file:\")\n",
    "    print(content)\n"
   ]
  },
  {
   "cell_type": "markdown",
   "id": "6f7716f4-003b-435b-a285-1016c055caa2",
   "metadata": {},
   "source": [
    "Q4. Explain the following with python code: read(), readline() and readlines()."
   ]
  },
  {
   "cell_type": "code",
   "execution_count": 4,
   "id": "c84d0986-931e-456d-9be2-b91bed3f68bb",
   "metadata": {},
   "outputs": [
    {
     "name": "stdout",
     "output_type": "stream",
     "text": [
      "Hello, World!\n"
     ]
    }
   ],
   "source": [
    "# Open a file in read mode\n",
    "with open(\"example.txt\", \"r\") as file:\n",
    "    # Read the entire content of the file\n",
    "    content = file.read()\n",
    "    # Print the content\n",
    "    print(content)\n"
   ]
  },
  {
   "cell_type": "code",
   "execution_count": 5,
   "id": "2bba26b9-319c-4ffd-bba1-cac1448b3647",
   "metadata": {},
   "outputs": [
    {
     "name": "stdout",
     "output_type": "stream",
     "text": [
      "Line 1: Hello, World!\n",
      "Line 2: \n"
     ]
    }
   ],
   "source": [
    "# Open a file in read mode\n",
    "with open(\"example.txt\", \"r\") as file:\n",
    "    # Read the first line of the file\n",
    "    line1 = file.readline()\n",
    "    # Read the second line of the file\n",
    "    line2 = file.readline()\n",
    "    # Print the lines\n",
    "    print(\"Line 1:\", line1)\n",
    "    print(\"Line 2:\", line2)\n"
   ]
  },
  {
   "cell_type": "code",
   "execution_count": 6,
   "id": "790e5868-2e23-4a73-8544-44abddcf9718",
   "metadata": {},
   "outputs": [
    {
     "name": "stdout",
     "output_type": "stream",
     "text": [
      "Hello, World!\n"
     ]
    }
   ],
   "source": [
    "# Open a file in read mode\n",
    "with open(\"example.txt\", \"r\") as file:\n",
    "    # Read all lines from the file\n",
    "    lines = file.readlines()\n",
    "    # Print the lines\n",
    "    for line in lines:\n",
    "        print(line)\n"
   ]
  },
  {
   "cell_type": "markdown",
   "id": "7eae54f2-6eb3-418b-bb56-b213de864afa",
   "metadata": {},
   "source": [
    "Q5. Explain why with statement is used with open(). What is the advantage of using with statement and\n",
    "open() together?"
   ]
  },
  {
   "cell_type": "markdown",
   "id": "533ac15f-7afb-4b9a-b2b2-d54223724d89",
   "metadata": {},
   "source": [
    "The with statement in Python is used to simplify the management of resources, particularly when dealing with file I/O operations. When used with the open() function to open files, it ensures that the file is properly closed after its suite finishes, even if an exception is raised during the execution of the code block.\n",
    "\n",
    "The advantage of using the with statement with open() for file operations are:\n",
    "\n",
    "Automatic Resource Management: The with statement ensures that the file is automatically closed once the block of code within the with statement is executed, regardless of whether an exception occurs or not. This helps in preventing resource leaks and ensures efficient resource management.\n",
    "\n",
    "Cleaner and More Readable Code: Using with statement eliminates the need for explicitly closing the file using close() method. This results in cleaner and more readable code as the intent of opening and closing the file is clearly expressed in a single block.\n",
    "\n",
    "Reduces Error Handling Code: By automatically closing the file, the with statement reduces the amount of error handling code needed to ensure that the file is closed properly, thereby reducing the chances of programming errors.\n",
    "\n",
    "Here's an example to illustrate the usage of with statement with open():\n",
    "\n",
    "python\n"
   ]
  },
  {
   "cell_type": "code",
   "execution_count": 7,
   "id": "33150605-6161-47a2-8c9c-13f5bcf8f7c8",
   "metadata": {},
   "outputs": [
    {
     "name": "stdout",
     "output_type": "stream",
     "text": [
      "Hello, World!\n"
     ]
    }
   ],
   "source": [
    "# Using with statement with open() for file operations\n",
    "with open(\"example.txt\", \"r\") as file:\n",
    "    # Perform file operations within the block\n",
    "    content = file.read()\n",
    "    print(content)\n",
    "# File is automatically closed once the block is exited\n"
   ]
  },
  {
   "cell_type": "markdown",
   "id": "77823fa5-0719-47c7-8364-c14533c01b06",
   "metadata": {},
   "source": [
    "Q6. Explain the write() and writelines() functions. Give a suitable example."
   ]
  },
  {
   "cell_type": "markdown",
   "id": "65cd4293-24cb-4046-9271-39b1db35b0b5",
   "metadata": {},
   "source": [
    "In Python, the write() and writelines() functions are used to write data to a file."
   ]
  },
  {
   "cell_type": "code",
   "execution_count": null,
   "id": "95d41ee3-9389-4851-844f-ed5af5ab2060",
   "metadata": {},
   "outputs": [],
   "source": [
    "1. write():\n",
    "The write() function is used to write a string to a file. It takes a single argument, which is the string to be written to the file. If the file is opened in text mode, the string must be a Unicode object. If the file is opened in binary mode, the string must be a bytes object."
   ]
  }
 ],
 "metadata": {
  "kernelspec": {
   "display_name": "Python 3 (ipykernel)",
   "language": "python",
   "name": "python3"
  },
  "language_info": {
   "codemirror_mode": {
    "name": "ipython",
    "version": 3
   },
   "file_extension": ".py",
   "mimetype": "text/x-python",
   "name": "python",
   "nbconvert_exporter": "python",
   "pygments_lexer": "ipython3",
   "version": "3.10.8"
  }
 },
 "nbformat": 4,
 "nbformat_minor": 5
}
