{
 "cells": [
  {
   "cell_type": "markdown",
   "id": "2570c468-9d49-4c24-b80f-21d1ee591d1a",
   "metadata": {},
   "source": [
    "1. Who developed Python Programming Language? "
   ]
  },
  {
   "cell_type": "markdown",
   "id": "f6997304-32dd-4c1e-b19e-658187c83f60",
   "metadata": {},
   "source": [
    "Guido van Rossum"
   ]
  },
  {
   "cell_type": "markdown",
   "id": "13384c05-dd25-4260-834d-7258b63b5a9b",
   "metadata": {},
   "source": [
    "2. Which type of Programming does Python support? "
   ]
  },
  {
   "cell_type": "markdown",
   "id": "c44725c1-49ff-4d4e-a9e9-3ceb0021efae",
   "metadata": {},
   "source": [
    "Multiple Programming Paradigms."
   ]
  },
  {
   "cell_type": "markdown",
   "id": "265c2bad-aab5-4bad-81cf-14d932c173e4",
   "metadata": {},
   "source": [
    "3. Is Python case sensitive when dealing with identifiers? "
   ]
  },
  {
   "cell_type": "markdown",
   "id": "9923b97d-eed3-467c-89d6-999dec8fe3e5",
   "metadata": {},
   "source": [
    "\n",
    "Yes, Python is case-sensitive when dealing with identifiers.\n",
    "\n",
    "For example, variables myVar, myvar, and MyVar are considered different identifiers in Python."
   ]
  },
  {
   "cell_type": "markdown",
   "id": "29e4c426-4726-470a-8131-278edc0c0b47",
   "metadata": {},
   "source": [
    "4. What is the correct extension of the Python file?"
   ]
  },
  {
   "cell_type": "markdown",
   "id": "67b7e4fb-d1f6-4580-8a7f-f3062cdef947",
   "metadata": {},
   "source": [
    "\n",
    "The correct extension for a Python file is:\n",
    "\n",
    ".py"
   ]
  },
  {
   "cell_type": "markdown",
   "id": "80fedcf5-412a-4628-86b9-1b8ac8762793",
   "metadata": {},
   "source": [
    "5. Is Python code compiled or interpreted? "
   ]
  },
  {
   "cell_type": "markdown",
   "id": "4095b541-265b-4c33-a5fc-4f6e89625a93",
   "metadata": {},
   "source": [
    "Python code is interpreted.\n",
    "Python source code is translated into intermediate bytecode, which is then executed by the Python interpreter."
   ]
  },
  {
   "cell_type": "markdown",
   "id": "f1079886-b099-4dfb-ab24-b9ef7079f7a6",
   "metadata": {},
   "source": [
    "6. Name a few blocks of code used to define in Python language? "
   ]
  },
  {
   "cell_type": "markdown",
   "id": "d57b072e-be79-4ab7-89b2-ed2331c9c6b9",
   "metadata": {},
   "source": [
    "In Python, indentation is used to define blocks of code. Some common blocks of code include:\n",
    "Function Definition: A block of code that defines a function. Conditional Statements: Blocks of code that execute conditionally based on a specified condition. Looping Constructs: Blocks of code that execute iteratively.Class Definitions: Blocks of code that define a class and its methods.Exception Handling: Blocks of code used to handle exceptions."
   ]
  },
  {
   "cell_type": "markdown",
   "id": "d0f7a567-5a6e-4c87-ba0c-f3064b3c9d66",
   "metadata": {},
   "source": [
    "7. State a character used to give single-line comments in Python? "
   ]
  },
  {
   "cell_type": "markdown",
   "id": "b7036e60-45a6-4123-922f-9c53a26728d9",
   "metadata": {},
   "source": [
    "\n",
    "In Python, the # character is used to give single-line comments."
   ]
  },
  {
   "cell_type": "markdown",
   "id": "45564214-4791-4725-9e03-f5b0f0adbc00",
   "metadata": {},
   "source": [
    "8. Mention functions which can help us to find the version of python that we are currently working on?"
   ]
  },
  {
   "cell_type": "markdown",
   "id": "f2346994-798c-4eaf-a4f5-425b5f26cb39",
   "metadata": {},
   "source": [
    "You can use the following functions to find the version of Python that you are currently working on:\n",
    "sys.version: The sys module provides information about the Python interpreter and its environment. You can use sys.version to get the version of Python.\n",
    "platform.python_version(): The platform module provides an abstraction over the underlying operating system. You can use platform.python_version() to get the version of Python"
   ]
  },
  {
   "cell_type": "markdown",
   "id": "bc267a9b-bf72-4d1a-b8f7-22cbc470fad6",
   "metadata": {},
   "source": [
    "9. Python supports the creation of anonymous functions at runtime, using a construct called \n"
   ]
  },
  {
   "cell_type": "markdown",
   "id": "46b10825-a113-4ffc-9ca8-0dac2e14ad9e",
   "metadata": {},
   "source": [
    "\n",
    "Python supports the creation of anonymous functions at runtime using a construct called:\n",
    "\n",
    "Lambda Expressions\n",
    "\n",
    "Lambda expressions are a way to create small anonymous functions without a name. They can take any number of arguments, but can only have one expression. Lambda functions are often used as a shortcut for simple functions that are only needed once, such as in sorting or filtering operations."
   ]
  },
  {
   "cell_type": "markdown",
   "id": "0c594fef-cdf1-4ed9-bc76-dd622c5292d7",
   "metadata": {},
   "source": [
    "10. What does pip stand for python? "
   ]
  },
  {
   "cell_type": "markdown",
   "id": "ebb42166-954a-47eb-aa71-f7bce98ba11e",
   "metadata": {},
   "source": [
    "PIP stands for:\n",
    "\n",
    "Pip Installs Packages\n",
    "\n",
    "PIP is the package installer for Python, used to install and manage software packages written in Python."
   ]
  },
  {
   "cell_type": "markdown",
   "id": "1f3d92fe-de26-4545-9b53-f84d9f01594a",
   "metadata": {},
   "source": [
    "11. Mention a few built-in functions in python? "
   ]
  },
  {
   "cell_type": "markdown",
   "id": "a7977534-1076-4eef-b22d-c339409633f1",
   "metadata": {},
   "source": [
    "few built-in functions in Python:\n",
    "\n",
    "print(): Prints the specified message or object to the standard output (usually the console).\n",
    "\n",
    "len(): Returns the length (number of items) of an object such as a string, list, tuple, dictionary, etc.\n",
    "\n",
    "input(): Reads a line of input from the user via the keyboard and returns it as a string.\n",
    "\n",
    "range(): Generates a sequence of numbers within a specified range.\n",
    "\n",
    "type(): Returns the type of an object.\n",
    "\n",
    "int(): Converts a string or number to an integer.\n",
    "\n",
    "str(): Converts an object to a string.\n",
    "\n",
    "float(): Converts a string or number to a floating-point number.\n",
    "\n",
    "list(): Creates a list from an iterable object.\n",
    "\n",
    "dict(): Creates a dictionary.\n",
    "\n",
    "tuple(): Creates a tuple from an iterable object.\n",
    "\n",
    "max(): Returns the largest item in an iterable or the largest of two or more arguments.\n",
    "\n",
    "min(): Returns the smallest item in an iterable or the smallest of two or more arguments.\n",
    "\n",
    "sum(): Returns the sum of all items in an iterable.\n",
    "\n",
    "sorted(): Returns a new sorted list from the items in an iterable.\n",
    "\n",
    "These are just a few examples of the many built-in functions available in Python. They are part of the Python standard library and can be used without importing any additional modules."
   ]
  },
  {
   "cell_type": "markdown",
   "id": "2fd6fda7-87b0-43c2-be34-6e3a634e98f5",
   "metadata": {},
   "source": [
    "12. What is the maximum possible length of an identifier in Python? "
   ]
  },
  {
   "cell_type": "markdown",
   "id": "7b03a17d-983b-403b-90ac-634ca7687036",
   "metadata": {},
   "source": [
    "In Python, the maximum possible length of an identifier (variable name, function name, class name, etc.) is not explicitly defined by the language specification. However, in practical terms, the length of an identifier is limited by the maximum size of a Python string, which is determined by the available memory of the system.\n",
    "\n",
    "On most systems, the maximum size of a string in Python is limited by the amount of available memory rather than any specific character count limit. Therefore, the maximum length of an identifier in Python is effectively limited by the amount of memory available on the system."
   ]
  },
  {
   "cell_type": "markdown",
   "id": "5e5aa0e6-a9db-43a6-9535-0c0d48f1664e",
   "metadata": {},
   "source": [
    "13. What are the benefits of using Python? "
   ]
  },
  {
   "cell_type": "markdown",
   "id": "dabe3f57-741b-474f-ad72-07969124a8ff",
   "metadata": {},
   "source": [
    "There are several benefits of using Python as a programming language:\n",
    "\n",
    "Readability and simplicity: Python emphasizes readability and simplicity, making it easier to write and understand code. Its clean and concise syntax allows developers to express concepts with fewer lines of code compared to other programming languages.\n",
    "\n",
    "Versatility: Python is a versatile language that can be used for a wide range of applications, including web development, data analysis, machine learning, artificial intelligence, scientific computing, automation, and more. It has a vast ecosystem of libraries and frameworks that support various tasks and domains.\n",
    "\n",
    "Large ecosystem: Python has a rich ecosystem of libraries and frameworks that provide pre-built functionality for common tasks. This includes libraries for web development (such as Django and Flask), data analysis (such as NumPy and pandas), machine learning (such as TensorFlow and scikit-learn), and more. This extensive ecosystem enables developers to leverage existing tools and resources to accelerate development.\n",
    "\n",
    "Community support: Python has a large and active community of developers who contribute to its development, create libraries and frameworks, and provide support and guidance to fellow developers. The Python community is known for its inclusivity, openness, and willingness to help others, making it easy for developers to find resources, tutorials, and assistance when needed.\n",
    "\n",
    "Portability: Python is a cross-platform language, meaning that code written in Python can run on various operating systems without modification. This portability makes it easy to develop and deploy applications across different environments, including Windows, macOS, Linux, and more.\n",
    "\n",
    "Interpreted language: Python is an interpreted language, which means that code is executed line by line by an interpreter at runtime. This allows for rapid development and testing cycles, as developers can quickly write and execute code without the need for compilation. Additionally, Python's interactive mode and REPL (Read-Eval-Print Loop) facilitate experimentation and prototyping.\n",
    "\n",
    "Integration capabilities: Python has strong integration capabilities with other languages and systems. It can easily interface with C/C++, Java, .NET, and other languages, allowing developers to leverage existing codebases and libraries written in different languages.\n",
    "\n",
    "Overall, Python's simplicity, versatility, extensive ecosystem, active community, portability, interpreted nature, and integration capabilities make it a popular choice for developers across various domains and industries."
   ]
  },
  {
   "cell_type": "markdown",
   "id": "cd76af91-1710-4e6a-9869-8ca32c605d63",
   "metadata": {},
   "source": [
    "14. How is memory managed in Python? "
   ]
  },
  {
   "cell_type": "code",
   "execution_count": null,
   "id": "2fd8c37f-ca6e-409d-8946-2c8419fdf07f",
   "metadata": {},
   "outputs": [],
   "source": []
  }
 ],
 "metadata": {
  "kernelspec": {
   "display_name": "Python 3 (ipykernel)",
   "language": "python",
   "name": "python3"
  },
  "language_info": {
   "codemirror_mode": {
    "name": "ipython",
    "version": 3
   },
   "file_extension": ".py",
   "mimetype": "text/x-python",
   "name": "python",
   "nbconvert_exporter": "python",
   "pygments_lexer": "ipython3",
   "version": "3.10.8"
  }
 },
 "nbformat": 4,
 "nbformat_minor": 5
}
