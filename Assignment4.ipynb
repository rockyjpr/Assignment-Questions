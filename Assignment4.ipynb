{
 "cells": [
  {
   "cell_type": "markdown",
   "id": "899fff8f",
   "metadata": {},
   "source": [
    "Q1. What is multithreading in python? hy is it used? Name the module used to handle threads in python"
   ]
  },
  {
   "cell_type": "markdown",
   "id": "4417d09a",
   "metadata": {},
   "source": [
    "\n",
    "Multithreading in Python refers to the capability of executing multiple threads concurrently within a single process. A thread is a lightweight subprocess that can perform tasks concurrently with other threads. Multithreading allows developers to improve the performance of their applications by utilizing the available CPU resources more efficiently and by executing multiple tasks simultaneously.\n",
    "\n",
    "Multithreading is used in Python for various purposes, including:\n",
    "\n",
    "Improved Performance: Multithreading can improve the performance of CPU-bound tasks by leveraging multiple CPU cores or by overlapping I/O-bound operations.\n",
    "\n",
    "Concurrency: Multithreading allows concurrent execution of tasks, enabling applications to handle multiple operations simultaneously. This is particularly useful for applications with multiple concurrent tasks, such as web servers handling multiple client requests.\n",
    "\n",
    "Asynchronous Programming: Multithreading is often used for asynchronous programming, where tasks can run concurrently and independently without blocking each other.\n",
    "\n",
    "Responsive User Interfaces: In graphical user interface (GUI) applications, multithreading can be used to ensure that the user interface remains responsive while performing time-consuming tasks in the background.\n",
    "\n",
    "The primary module used to handle threads in Python is the threading module. The threading module provides a high-level interface for working with threads in Python. It allows developers to create, start, pause, resume, and terminate threads, as well as to synchronize access to shared resources using locks, conditions, and semaphores.\n",
    "\n",
    "Here's a simple example of creating and starting a thread using the threading module"
   ]
  },
  {
   "cell_type": "code",
   "execution_count": 1,
   "id": "a2dd96da",
   "metadata": {},
   "outputs": [
    {
     "name": "stdout",
     "output_type": "stream",
     "text": [
      "Hello from a thread!\n"
     ]
    }
   ],
   "source": [
    "import threading\n",
    "\n",
    "def my_function():\n",
    "    print(\"Hello from a thread!\")\n",
    "\n",
    "# Create a new thread\n",
    "my_thread = threading.Thread(target=my_function)\n",
    "\n",
    "# Start the thread\n",
    "my_thread.start()\n"
   ]
  },
  {
   "cell_type": "markdown",
   "id": "5dc08d99",
   "metadata": {},
   "source": [
    "In this example, a new thread is created using the Thread class from the threading module, specifying the target function my_function to be executed by the thread. The start() method is then called to start the execution of the thread"
   ]
  },
  {
   "cell_type": "markdown",
   "id": "cd1c2ff7",
   "metadata": {},
   "source": [
    "Q2 - . Why threading module used? rite the use of the following functions\n",
    "1activeCount\n",
    "2currentThread\n",
    "3enumerate"
   ]
  },
  {
   "cell_type": "markdown",
   "id": "2e27d849",
   "metadata": {},
   "source": [
    "\n",
    "The threading module in Python is used to create and manage threads within a Python program. It provides a high-level interface for working with threads, allowing developers to create, start, pause, resume, and terminate threads, as well as to synchronize access to shared resources using locks, conditions, and semaphores.\n",
    "\n",
    "Here's a brief description of the functions you mentioned in the threading module:"
   ]
  },
  {
   "cell_type": "markdown",
   "id": "04873e3e",
   "metadata": {},
   "source": [
    "activeCount(): This function returns the number of Thread objects that are currently alive. A Thread object is considered alive from the moment it is created until it is terminated. This function is useful for monitoring the number of active threads in a program"
   ]
  },
  {
   "cell_type": "code",
   "execution_count": 2,
   "id": "41d3b6f8",
   "metadata": {},
   "outputs": [
    {
     "name": "stdout",
     "output_type": "stream",
     "text": [
      "Number of active threads: 6\n"
     ]
    },
    {
     "name": "stderr",
     "output_type": "stream",
     "text": [
      "C:\\Users\\Abhishek Sharma\\AppData\\Local\\Temp\\ipykernel_23988\\527497786.py:3: DeprecationWarning: activeCount() is deprecated, use active_count() instead\n",
      "  print(\"Number of active threads:\", threading.activeCount())\n"
     ]
    }
   ],
   "source": [
    "import threading\n",
    "\n",
    "print(\"Number of active threads:\", threading.activeCount())\n"
   ]
  },
  {
   "cell_type": "markdown",
   "id": "d46da553",
   "metadata": {},
   "source": [
    "currentThread(): This function returns a reference to the currently executing Thread object. It is useful for obtaining information about the current thread, such as its name or identification."
   ]
  },
  {
   "cell_type": "markdown",
   "id": "0099ae06",
   "metadata": {},
   "source": [
    "import threading\n",
    "\n",
    "current_thread = threading.currentThread()\n",
    "print(\"Current thread name:\", current_thread.name)\n"
   ]
  },
  {
   "cell_type": "code",
   "execution_count": 3,
   "id": "13dc2e32",
   "metadata": {},
   "outputs": [
    {
     "name": "stdout",
     "output_type": "stream",
     "text": [
      "Current thread name: MainThread\n"
     ]
    },
    {
     "name": "stderr",
     "output_type": "stream",
     "text": [
      "C:\\Users\\Abhishek Sharma\\AppData\\Local\\Temp\\ipykernel_23988\\1402389253.py:3: DeprecationWarning: currentThread() is deprecated, use current_thread() instead\n",
      "  current_thread = threading.currentThread()\n"
     ]
    }
   ],
   "source": [
    "import threading\n",
    "\n",
    "current_thread = threading.currentThread()\n",
    "print(\"Current thread name:\", current_thread.name)\n"
   ]
  },
  {
   "cell_type": "markdown",
   "id": "f4c9bbf0",
   "metadata": {},
   "source": [
    "enumerate(): This function returns a list of all Thread objects currently alive. Each Thread object represents a thread that is currently running or waiting to run. This function is useful for iterating over all active threads in a program.\n",
    "\n"
   ]
  },
  {
   "cell_type": "code",
   "execution_count": 4,
   "id": "5a17e3d9",
   "metadata": {},
   "outputs": [
    {
     "name": "stdout",
     "output_type": "stream",
     "text": [
      "Thread name: MainThread\n",
      "Thread name: IOPub\n",
      "Thread name: Heartbeat\n",
      "Thread name: Control\n",
      "Thread name: IPythonHistorySavingThread\n",
      "Thread name: Thread-4\n"
     ]
    }
   ],
   "source": [
    "import threading\n",
    "\n",
    "all_threads = threading.enumerate()\n",
    "for thread in all_threads:\n",
    "    print(\"Thread name:\", thread.name)\n"
   ]
  },
  {
   "cell_type": "markdown",
   "id": "269f200b",
   "metadata": {},
   "source": [
    "Q3. Explain the following functions\n",
    "1 run\n",
    "2start\n",
    "3join\n",
    "4isAlive"
   ]
  },
  {
   "cell_type": "markdown",
   "id": "68dfbe7d",
   "metadata": {},
   "source": [
    "Certainly! Let's delve into the explanation of each of these functions typically used in Python's threading module:\n",
    "\n",
    "run(): The run() method is a method that defines the activity to be executed by a thread. When you subclass the Thread class and override the run() method, the code within the run() method will be executed when you call the start() method on an instance of your subclass. You should override this method to define the thread's behavior."
   ]
  },
  {
   "cell_type": "code",
   "execution_count": 5,
   "id": "269559c7",
   "metadata": {},
   "outputs": [
    {
     "name": "stdout",
     "output_type": "stream",
     "text": [
      "This is the thread's activity.\n"
     ]
    }
   ],
   "source": [
    "import threading\n",
    "\n",
    "class MyThread(threading.Thread):\n",
    "    def run(self):\n",
    "        print(\"This is the thread's activity.\")\n",
    "\n",
    "my_thread = MyThread()\n",
    "my_thread.start()  # This will call the run() method in a separate thread\n"
   ]
  },
  {
   "cell_type": "markdown",
   "id": "4f0d5118",
   "metadata": {},
   "source": [
    "start(): The start() method is used to start the execution of a thread. It initializes the thread and begins its execution by calling the run() method in a separate thread. Once a thread has been started, it can't be started again."
   ]
  },
  {
   "cell_type": "code",
   "execution_count": 6,
   "id": "f96067bf",
   "metadata": {},
   "outputs": [
    {
     "name": "stdout",
     "output_type": "stream",
     "text": [
      "This is the thread's activity.\n"
     ]
    }
   ],
   "source": [
    "import threading\n",
    "\n",
    "def my_function():\n",
    "    print(\"This is the thread's activity.\")\n",
    "\n",
    "my_thread = threading.Thread(target=my_function)\n",
    "my_thread.start()  # This will start the execution of my_function() in a separate thread\n"
   ]
  },
  {
   "cell_type": "markdown",
   "id": "29e87383",
   "metadata": {},
   "source": [
    "join(): The join() method is used to wait for a thread to complete its execution before proceeding further in the main thread. It blocks the calling thread until the thread on which it's called terminates (i.e., finishes its execution)."
   ]
  },
  {
   "cell_type": "code",
   "execution_count": 8,
   "id": "5901fa0b",
   "metadata": {},
   "outputs": [
    {
     "name": "stdout",
     "output_type": "stream",
     "text": [
      "This is the thread's activity.\n"
     ]
    }
   ],
   "source": [
    "import threading\n",
    "\n",
    "def my_function():\n",
    "    print(\"This is the thread's activity.\")\n",
    "\n",
    "my_thread = threading.Thread(target=my_function)\n",
    "my_thread.start()\n",
    "my_thread.join()  # This will block the main thread until my_thread completes its execution\n"
   ]
  },
  {
   "cell_type": "markdown",
   "id": "04f9633f",
   "metadata": {},
   "source": [
    "isAlive(): The isAlive() method returns True if the thread is currently running (i.e., its run() method is executing), or False otherwise. It can be used to check whether a thread is still active and has not yet terminated"
   ]
  },
  {
   "cell_type": "code",
   "execution_count": 10,
   "id": "4c49cb40",
   "metadata": {},
   "outputs": [
    {
     "ename": "AttributeError",
     "evalue": "'Thread' object has no attribute 'isAlive'",
     "output_type": "error",
     "traceback": [
      "\u001b[1;31m---------------------------------------------------------------------------\u001b[0m",
      "\u001b[1;31mAttributeError\u001b[0m                            Traceback (most recent call last)",
      "Cell \u001b[1;32mIn[10], line 10\u001b[0m\n\u001b[0;32m      8\u001b[0m my_thread \u001b[38;5;241m=\u001b[39m threading\u001b[38;5;241m.\u001b[39mThread(target\u001b[38;5;241m=\u001b[39mmy_function)\n\u001b[0;32m      9\u001b[0m my_thread\u001b[38;5;241m.\u001b[39mstart()\n\u001b[1;32m---> 10\u001b[0m \u001b[38;5;28mprint\u001b[39m(\u001b[38;5;124m\"\u001b[39m\u001b[38;5;124mIs the thread alive?\u001b[39m\u001b[38;5;124m\"\u001b[39m, my_thread\u001b[38;5;241m.\u001b[39misAlive())  \u001b[38;5;66;03m# This will print True while the thread is running\u001b[39;00m\n\u001b[0;32m     11\u001b[0m my_thread\u001b[38;5;241m.\u001b[39mjoin()\n\u001b[0;32m     12\u001b[0m \u001b[38;5;28mprint\u001b[39m(\u001b[38;5;124m\"\u001b[39m\u001b[38;5;124mIs the thread alive?\u001b[39m\u001b[38;5;124m\"\u001b[39m, my_thread\u001b[38;5;241m.\u001b[39misAlive())\n",
      "\u001b[1;31mAttributeError\u001b[0m: 'Thread' object has no attribute 'isAlive'"
     ]
    },
    {
     "name": "stdout",
     "output_type": "stream",
     "text": [
      "This is the thread's activity.\n"
     ]
    }
   ],
   "source": [
    "import threading\n",
    "import time\n",
    "\n",
    "def my_function():\n",
    "    time.sleep(2)\n",
    "    print(\"This is the thread's activity.\")\n",
    "\n",
    "my_thread = threading.Thread(target=my_function)\n",
    "my_thread.start()\n",
    "print(\"Is the thread alive?\", my_thread.isAlive())  # This will print True while the thread is running\n",
    "my_thread.join()\n",
    "print(\"Is the thread alive?\", my_thread.isAlive())  # This will print False after the thread has finished executing\n"
   ]
  },
  {
   "cell_type": "markdown",
   "id": "d05971af",
   "metadata": {},
   "source": [
    "Q4. rite a python program to create two threads. Thread one must print the list of squares and thread\n",
    "two must print the list of cubes"
   ]
  },
  {
   "cell_type": "markdown",
   "id": "681baf11",
   "metadata": {},
   "source": [
    "\n",
    "Here's a Python program that creates two threads. One thread calculates and prints the list of squares of numbers, and the other thread calculates and prints the list of cubes of numbers:"
   ]
  },
  {
   "cell_type": "code",
   "execution_count": 11,
   "id": "bd0d4d57",
   "metadata": {},
   "outputs": [
    {
     "name": "stdout",
     "output_type": "stream",
     "text": [
      "List of squares:List of cubes: [1, 8, 27, 64, 125]\n",
      " [1, 4, 9, 16, 25]\n",
      "Both threads have finished execution.\n"
     ]
    }
   ],
   "source": [
    "import threading\n",
    "\n",
    "def print_squares(numbers):\n",
    "    squares = [num ** 2 for num in numbers]\n",
    "    print(\"List of squares:\", squares)\n",
    "\n",
    "def print_cubes(numbers):\n",
    "    cubes = [num ** 3 for num in numbers]\n",
    "    print(\"List of cubes:\", cubes)\n",
    "\n",
    "numbers = [1, 2, 3, 4, 5]\n",
    "\n",
    "# Create the first thread to print squares\n",
    "thread1 = threading.Thread(target=print_squares, args=(numbers,))\n",
    "# Create the second thread to print cubes\n",
    "thread2 = threading.Thread(target=print_cubes, args=(numbers,))\n",
    "\n",
    "# Start both threads\n",
    "thread1.start()\n",
    "thread2.start()\n",
    "\n",
    "# Wait for both threads to complete\n",
    "thread1.join()\n",
    "thread2.join()\n",
    "\n",
    "print(\"Both threads have finished execution.\")\n"
   ]
  },
  {
   "cell_type": "markdown",
   "id": "2ba018db",
   "metadata": {},
   "source": [
    "The print_squares function calculates the squares of numbers in the input list and prints the list of squares.\n",
    "The print_cubes function calculates the cubes of numbers in the input list and prints the list of cubes.\n",
    "The numbers list contains the numbers for which squares and cubes are to be calculated.\n",
    "Two threads (thread1 and thread2) are created, each targeting one of the above functions.\n",
    "Both threads are started using the start() method.\n",
    "The join() method is called on both threads to ensure that the main thread waits for their completion before printing \"Both threads have finished execution.\""
   ]
  },
  {
   "cell_type": "markdown",
   "id": "96754c33",
   "metadata": {},
   "source": [
    "Q5. State advantages and disadvantages of multithreading"
   ]
  },
  {
   "cell_type": "markdown",
   "id": "8e01681f",
   "metadata": {},
   "source": [
    "Multithreading offers several advantages and disadvantages, which are crucial to consider when designing and implementing concurrent programs. Let's explore both sides:\n",
    "\n",
    "Advantages of Multithreading:\n",
    "Improved Performance: Multithreading allows concurrent execution of tasks, making better use of CPU resources and potentially speeding up the execution of programs, especially in systems with multiple cores.\n",
    "\n",
    "Increased Responsiveness: Multithreading can enhance the responsiveness of applications, particularly in user interface (UI) development, by allowing time-consuming tasks to be performed in the background while keeping the UI responsive to user interactions.\n",
    "\n",
    "Resource Sharing: Threads within the same process share the same memory space, making it easy to share data and resources between threads without the need for complex communication mechanisms.\n",
    "\n",
    "Simplified Program Structure: Multithreading can simplify program structure by allowing developers to break complex tasks into smaller, more manageable threads, each responsible for a specific aspect of the application.\n",
    "\n",
    "Concurrency Control: Multithreading provides mechanisms for synchronizing access to shared resources, such as locks, semaphores, and mutexes, enabling safe and coordinated access to critical sections of code.\n",
    "\n",
    "Disadvantages of Multithreading:\n",
    "Complexity and Difficulty: Multithreading introduces additional complexity to software development, as programmers must carefully manage thread synchronization, avoid race conditions, and handle concurrency issues, which can be challenging and error-prone.\n",
    "\n",
    "Concurrency Bugs: Multithreading increases the likelihood of concurrency bugs, such as deadlock, livelock, and race conditions, which can be difficult to debug and reproduce, leading to unpredictable behavior in the application.\n",
    "\n",
    "Resource Consumption: Multithreading consumes additional system resources, such as memory and CPU time, due to the overhead associated with managing and switching between threads, which may impact overall system performance.\n",
    "\n",
    "Platform Dependency: Multithreading behavior may vary across different operating systems and platforms, making it challenging to write portable and platform-independent code that behaves consistently across all environments.\n",
    "\n",
    "Difficulty in Debugging: Debugging multithreaded applications can be challenging, as concurrency-related issues may occur sporadically and be difficult to reproduce and diagnose, requiring advanced debugging techniques and tools.\n",
    "\n",
    "Overall, while multithreading offers significant benefits in terms of performance and responsiveness, it also introduces complexities and challenges that developers must carefully consider and address to ensure the reliability and stability of concurrent programs."
   ]
  },
  {
   "cell_type": "markdown",
   "id": "aa9ec8ab",
   "metadata": {},
   "source": [
    "Q6. Explain deadlocks and race conditions."
   ]
  },
  {
   "cell_type": "markdown",
   "id": "65a10e3b",
   "metadata": {},
   "source": [
    "\n",
    "Deadlocks and race conditions are common concurrency issues that can occur in multithreaded programs. Let's explore each of them:\n",
    "\n",
    "Deadlocks:\n",
    "Deadlock is a situation in which two or more threads are blocked indefinitely, waiting for each other to release resources that they need to proceed. Deadlocks typically occur in multithreaded programs when multiple threads acquire locks on resources in a way that creates a circular dependency. As a result, none of the threads can proceed, leading to a deadlock situation.\n",
    "\n",
    "Example of a deadlock scenario:"
   ]
  },
  {
   "cell_type": "code",
   "execution_count": 12,
   "id": "5b74c174",
   "metadata": {},
   "outputs": [
    {
     "name": "stdout",
     "output_type": "stream",
     "text": [
      "Thread 1 acquired lock1\n",
      "Thread 1 acquired lock2\n",
      "Thread 2 acquired lock2\n",
      "Thread 2 acquired lock1\n"
     ]
    }
   ],
   "source": [
    "import threading\n",
    "\n",
    "lock1 = threading.Lock()\n",
    "lock2 = threading.Lock()\n",
    "\n",
    "def function1():\n",
    "    with lock1:\n",
    "        print(\"Thread 1 acquired lock1\")\n",
    "        with lock2:\n",
    "            print(\"Thread 1 acquired lock2\")\n",
    "            # Critical section\n",
    "\n",
    "def function2():\n",
    "    with lock2:\n",
    "        print(\"Thread 2 acquired lock2\")\n",
    "        with lock1:\n",
    "            print(\"Thread 2 acquired lock1\")\n",
    "            # Critical section\n",
    "\n",
    "thread1 = threading.Thread(target=function1)\n",
    "thread2 = threading.Thread(target=function2)\n",
    "\n",
    "thread1.start()\n",
    "thread2.start()\n",
    "\n",
    "thread1.join()\n",
    "thread2.join()\n"
   ]
  },
  {
   "cell_type": "markdown",
   "id": "c839532f",
   "metadata": {},
   "source": [
    "Race Conditions:\n",
    "A race condition occurs when the behavior of a program depends on the sequence or timing of uncontrollable events. In a multithreaded program, race conditions typically arise when two or more threads access shared resources concurrently, and the outcome of the program depends on the order in which the threads are scheduled to execute."
   ]
  },
  {
   "cell_type": "code",
   "execution_count": 13,
   "id": "10de5e51",
   "metadata": {},
   "outputs": [
    {
     "name": "stdout",
     "output_type": "stream",
     "text": [
      "Counter value: 2000000\n"
     ]
    }
   ],
   "source": [
    "import threading\n",
    "\n",
    "counter = 0\n",
    "\n",
    "def increment():\n",
    "    global counter\n",
    "    for _ in range(1000000):\n",
    "        counter += 1\n",
    "\n",
    "thread1 = threading.Thread(target=increment)\n",
    "thread2 = threading.Thread(target=increment)\n",
    "\n",
    "thread1.start()\n",
    "thread2.start()\n",
    "\n",
    "thread1.join()\n",
    "thread2.join()\n",
    "\n",
    "print(\"Counter value:\", counter)\n"
   ]
  },
  {
   "cell_type": "markdown",
   "id": "ea648a6d",
   "metadata": {},
   "source": [
    "In this example, two threads (thread1 and thread2) increment a shared counter variable concurrently. Since the counter += 1 operation is not atomic (i.e., it involves multiple CPU instructions), race conditions may occur, causing unexpected results. Depending on the interleaving of instructions executed by the threads, the final value of the counter may not be what is expected.\n",
    "\n",
    "To mitigate race conditions, synchronization mechanisms such as locks, semaphores, and mutexes can be used to coordinate access to shared resources and ensure that only one thread accesses the resource at a time. Deadlocks and race conditions are critical issues in concurrent programming that require careful consideration and thorough testing to identify and resolve"
   ]
  },
  {
   "cell_type": "code",
   "execution_count": null,
   "id": "88c8cecc",
   "metadata": {},
   "outputs": [],
   "source": []
  }
 ],
 "metadata": {
  "kernelspec": {
   "display_name": "Python 3 (ipykernel)",
   "language": "python",
   "name": "python3"
  },
  "language_info": {
   "codemirror_mode": {
    "name": "ipython",
    "version": 3
   },
   "file_extension": ".py",
   "mimetype": "text/x-python",
   "name": "python",
   "nbconvert_exporter": "python",
   "pygments_lexer": "ipython3",
   "version": "3.11.3"
  }
 },
 "nbformat": 4,
 "nbformat_minor": 5
}
