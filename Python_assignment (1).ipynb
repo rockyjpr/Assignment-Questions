{
 "cells": [
  {
   "cell_type": "markdown",
   "id": "1f5e757f-257f-4aee-8eea-c23fea3d7798",
   "metadata": {},
   "source": [
    "Q1  - Which keyword is used to create a function? Create a function to return a list of odd numbers in the\n",
    "range of 1 to 25."
   ]
  },
  {
   "cell_type": "code",
   "execution_count": 1,
   "id": "bfab3028-51ad-4011-97c9-42f5c3621a2f",
   "metadata": {},
   "outputs": [
    {
     "name": "stdout",
     "output_type": "stream",
     "text": [
      "List of odd numbers in the range of 1 to 25: [1, 3, 5, 7, 9, 11, 13, 15, 17, 19, 21, 23, 25]\n"
     ]
    }
   ],
   "source": [
    "def odd_numbers():\n",
    "    \"\"\"\n",
    "    Return a list of odd numbers in the range of 1 to 25.\n",
    "    \n",
    "    Returns:\n",
    "    list: A list containing odd numbers in the range of 1 to 25.\n",
    "    \"\"\"\n",
    "    # Initialize an empty list to store odd numbers\n",
    "    odd_list = []\n",
    "    \n",
    "    # Loop through the range of 1 to 25\n",
    "    for num in range(1, 26):\n",
    "        # Check if the number is odd\n",
    "        if num % 2 != 0:\n",
    "            odd_list.append(num)\n",
    "    \n",
    "    return odd_list\n",
    "\n",
    "# Call the function and store the result\n",
    "odd_numbers_list = odd_numbers()\n",
    "\n",
    "# Print the list of odd numbers\n",
    "print(\"List of odd numbers in the range of 1 to 25:\", odd_numbers_list)\n"
   ]
  },
  {
   "cell_type": "markdown",
   "id": "73b6d8e4-dc46-4ef6-810f-ea5b210f77fe",
   "metadata": {},
   "source": [
    "Q2. Why *args and **kwargs is used in some functions? Create a function each for *args and **kwargs\n",
    "to demonstrate their use."
   ]
  },
  {
   "cell_type": "code",
   "execution_count": 2,
   "id": "3449d634-b925-46c5-a888-6d6f48d344b7",
   "metadata": {},
   "outputs": [
    {
     "name": "stdout",
     "output_type": "stream",
     "text": [
      "Sum of numbers: 15\n",
      "name: John\n",
      "age: 30\n",
      "city: New York\n"
     ]
    }
   ],
   "source": [
    "# Function using *args\n",
    "def sum_of_numbers(*args):\n",
    "    total = 0\n",
    "    for num in args:\n",
    "        total += num\n",
    "    return total\n",
    "\n",
    "# Test the function\n",
    "result = sum_of_numbers(1, 2, 3, 4, 5)\n",
    "print(\"Sum of numbers:\", result)\n",
    "\n",
    "\n",
    "# Function using **kwargs\n",
    "def print_values(**kwargs):\n",
    "    for key, value in kwargs.items():\n",
    "        print(f\"{key}: {value}\")\n",
    "\n",
    "# Test the function\n",
    "print_values(name=\"John\", age=30, city=\"New York\")\n"
   ]
  },
  {
   "cell_type": "markdown",
   "id": "3faba9f6-9bea-4eaf-9346-7d831a41536b",
   "metadata": {},
   "source": [
    "Q3. What is an iterator in python? Name the method used to initialise the iterator object and the method\n",
    "used for iteration. Use these methods to print the first five elements of the given list [2, 4, 6, 8, 10, 12, 14,\n",
    "16, 18, 20]."
   ]
  },
  {
   "cell_type": "code",
   "execution_count": 3,
   "id": "0225b5d8-e451-417d-9ab6-b78ccbda351f",
   "metadata": {},
   "outputs": [
    {
     "name": "stdout",
     "output_type": "stream",
     "text": [
      "2\n",
      "4\n",
      "6\n",
      "8\n",
      "10\n"
     ]
    }
   ],
   "source": [
    "# Define the list\n",
    "my_list = [2, 4, 6, 8, 10, 12, 14, 16, 18, 20]\n",
    "\n",
    "# Initialize the iterator object\n",
    "iterator = iter(my_list)\n",
    "\n",
    "# Iterate over the first five elements using the next() method\n",
    "for _ in range(5):\n",
    "    print(next(iterator))\n"
   ]
  },
  {
   "cell_type": "markdown",
   "id": "2a7fe454-71a2-4d70-86a5-ad933a5fc9b9",
   "metadata": {},
   "source": [
    "Q4. What is a generator function in python? Why yield keyword is used? Give an example of a generator\n",
    "function."
   ]
  },
  {
   "cell_type": "code",
   "execution_count": 4,
   "id": "79108db1-1408-4e4f-a3d2-e0c65de167dd",
   "metadata": {},
   "outputs": [
    {
     "name": "stdout",
     "output_type": "stream",
     "text": [
      "0\n",
      "1\n",
      "1\n",
      "2\n",
      "3\n",
      "5\n",
      "8\n",
      "13\n",
      "21\n",
      "34\n"
     ]
    }
   ],
   "source": [
    "def fibonacci_generator():\n",
    "    a, b = 0, 1\n",
    "    while True:\n",
    "        yield a\n",
    "        a, b = b, a + b\n",
    "\n",
    "# Create a generator object\n",
    "fib_gen = fibonacci_generator()\n",
    "\n",
    "# Print the first 10 Fibonacci numbers\n",
    "for _ in range(10):\n",
    "    print(next(fib_gen))\n",
    "\n",
    "    "
   ]
  },
  {
   "cell_type": "markdown",
   "id": "23bc0694-4b2e-4e19-baf9-dead1dc488dc",
   "metadata": {},
   "source": [
    "Q5. Create a generator function for prime numbers less than 1000. Use the next() method to print the\n",
    "first 20 prime numbers."
   ]
  },
  {
   "cell_type": "code",
   "execution_count": 5,
   "id": "f3834bb0-3f04-45a1-ac4a-3370055fb1cf",
   "metadata": {},
   "outputs": [
    {
     "name": "stdout",
     "output_type": "stream",
     "text": [
      "2\n",
      "3\n",
      "5\n",
      "7\n",
      "11\n",
      "13\n",
      "17\n",
      "19\n",
      "23\n",
      "29\n",
      "31\n",
      "37\n",
      "41\n",
      "43\n",
      "47\n",
      "53\n",
      "59\n",
      "61\n",
      "67\n",
      "71\n"
     ]
    }
   ],
   "source": [
    "def prime_generator():\n",
    "    \"\"\"\n",
    "    Generator function to yield prime numbers less than 1000.\n",
    "    \"\"\"\n",
    "    # Define a list to store prime numbers\n",
    "    primes = []\n",
    "    \n",
    "    # Iterate through numbers from 2 to 999 (inclusive)\n",
    "    for num in range(2, 1000):\n",
    "        is_prime = True\n",
    "        \n",
    "        # Check if the number is prime\n",
    "        for prime in primes:\n",
    "            if num % prime == 0:\n",
    "                is_prime = False\n",
    "                break\n",
    "        \n",
    "        # If the number is prime, yield it and add it to the list of primes\n",
    "        if is_prime:\n",
    "            yield num\n",
    "            primes.append(num)\n",
    "\n",
    "# Create a generator object\n",
    "prime_gen = prime_generator()\n",
    "\n",
    "# Print the first 20 prime numbers\n",
    "for _ in range(20):\n",
    "    print(next(prime_gen))\n"
   ]
  },
  {
   "cell_type": "markdown",
   "id": "e35bf3f5-f703-438d-85be-49ef0bfd628a",
   "metadata": {},
   "source": [
    "Q6. Write a python program to print the first 10 Fibonacci numbers using a while loop."
   ]
  },
  {
   "cell_type": "code",
   "execution_count": 6,
   "id": "ea75721c-6f51-4983-89f1-5381708a6210",
   "metadata": {},
   "outputs": [
    {
     "name": "stdout",
     "output_type": "stream",
     "text": [
      "First 10 Fibonacci numbers:\n",
      "0\n",
      "1\n",
      "1\n",
      "2\n",
      "3\n",
      "5\n",
      "8\n",
      "13\n",
      "21\n",
      "34\n"
     ]
    }
   ],
   "source": [
    "# Initialize the first two Fibonacci numbers\n",
    "fibonacci_numbers = [0, 1]\n",
    "\n",
    "# Initialize a counter for the number of Fibonacci numbers printed\n",
    "count = 2\n",
    "\n",
    "# Loop to generate Fibonacci numbers using a while loop\n",
    "while count < 10:\n",
    "    # Calculate the next Fibonacci number\n",
    "    next_fibonacci = fibonacci_numbers[-1] + fibonacci_numbers[-2]\n",
    "    \n",
    "    # Append the next Fibonacci number to the list\n",
    "    fibonacci_numbers.append(next_fibonacci)\n",
    "    \n",
    "    # Increment the count\n",
    "    count += 1\n",
    "\n",
    "# Print the first 10 Fibonacci numbers\n",
    "print(\"First 10 Fibonacci numbers:\")\n",
    "for num in fibonacci_numbers:\n",
    "    print(num)\n",
    "\n",
    "    "
   ]
  },
  {
   "cell_type": "markdown",
   "id": "a244151c-7a0f-4ec7-9075-b5ead3575457",
   "metadata": {},
   "source": [
    "Q7. Write a List Comprehension to iterate through the given string: ‘pwskills’.\n",
    "Expected output: ['p', 'w', 's', 'k', 'i', 'l', 'l', 's']"
   ]
  },
  {
   "cell_type": "code",
   "execution_count": 7,
   "id": "593f72dd-3f33-4500-8192-8ffcd3cf284d",
   "metadata": {},
   "outputs": [
    {
     "name": "stdout",
     "output_type": "stream",
     "text": [
      "['p', 'w', 's', 'k', 'i', 'l', 'l', 's']\n"
     ]
    }
   ],
   "source": [
    "# Given string\n",
    "string = 'pwskills'\n",
    "\n",
    "# List comprehension to iterate through the string and create a list of characters\n",
    "result = [char for char in string]\n",
    "\n",
    "# Print the result\n",
    "print(result)\n"
   ]
  },
  {
   "cell_type": "markdown",
   "id": "f92881fb-c009-410c-8e39-858083a3fb11",
   "metadata": {},
   "source": [
    "Q8. Write a python program to check whether a given number is Palindrome or not using a while loop."
   ]
  },
  {
   "cell_type": "code",
   "execution_count": 8,
   "id": "d7368c11-36c6-491c-8999-69f8c23bfeec",
   "metadata": {},
   "outputs": [
    {
     "name": "stdin",
     "output_type": "stream",
     "text": [
      "Enter a number to check for palindrome:  12\n"
     ]
    },
    {
     "name": "stdout",
     "output_type": "stream",
     "text": [
      "12 is not a palindrome\n"
     ]
    }
   ],
   "source": [
    "def is_palindrome(num):\n",
    "    \"\"\"\n",
    "    Check if a given number is palindrome or not.\n",
    "    \n",
    "    Args:\n",
    "    num (int): The number to check.\n",
    "    \n",
    "    Returns:\n",
    "    bool: True if the number is palindrome, False otherwise.\n",
    "    \"\"\"\n",
    "    # Convert the number to a string\n",
    "    num_str = str(num)\n",
    "    \n",
    "    # Initialize variables for indices\n",
    "    start = 0\n",
    "    end = len(num_str) - 1\n",
    "    \n",
    "    # Loop until the start index crosses the end index\n",
    "    while start < end:\n",
    "        # Check if the characters at start and end indices are equal\n",
    "        if num_str[start] != num_str[end]:\n",
    "            return False\n",
    "        # Move the indices towards the center\n",
    "        start += 1\n",
    "        end -= 1\n",
    "    \n",
    "    # If the loop completes without returning False, the number is palindrome\n",
    "    return True\n",
    "\n",
    "# Test the function\n",
    "number = int(input(\"Enter a number to check for palindrome: \"))\n",
    "if is_palindrome(number):\n",
    "    print(number, \"is a palindrome\")\n",
    "else:\n",
    "    print(number, \"is not a palindrome\")\n",
    "\n",
    "    "
   ]
  },
  {
   "cell_type": "markdown",
   "id": "906ad8bd-34f2-4790-83fa-1e572703aa85",
   "metadata": {},
   "source": [
    "Q9. Write a code to print odd numbers from 1 to 100 using list comprehension.\n",
    "Note: Use a list comprehension to create a list from 1 to 100 and use another List comprehension to filter\n",
    "out odd numbers."
   ]
  },
  {
   "cell_type": "code",
   "execution_count": 9,
   "id": "0261d55b-6e3a-43f8-ba7c-3f5a2b74aa59",
   "metadata": {},
   "outputs": [
    {
     "name": "stdout",
     "output_type": "stream",
     "text": [
      "Odd numbers from 1 to 100: [1, 3, 5, 7, 9, 11, 13, 15, 17, 19, 21, 23, 25, 27, 29, 31, 33, 35, 37, 39, 41, 43, 45, 47, 49, 51, 53, 55, 57, 59, 61, 63, 65, 67, 69, 71, 73, 75, 77, 79, 81, 83, 85, 87, 89, 91, 93, 95, 97, 99]\n"
     ]
    }
   ],
   "source": [
    "# List comprehension to create a list of numbers from 1 to 100\n",
    "numbers = [num for num in range(1, 101)]\n",
    "\n",
    "# List comprehension to filter out odd numbers\n",
    "odd_numbers = [num for num in numbers if num % 2 != 0]\n",
    "\n",
    "# Print the odd numbers\n",
    "print(\"Odd numbers from 1 to 100:\", odd_numbers)\n"
   ]
  },
  {
   "cell_type": "code",
   "execution_count": null,
   "id": "bfe626c2-ed95-409b-8ab3-04683889b86c",
   "metadata": {},
   "outputs": [],
   "source": []
  }
 ],
 "metadata": {
  "kernelspec": {
   "display_name": "Python 3 (ipykernel)",
   "language": "python",
   "name": "python3"
  },
  "language_info": {
   "codemirror_mode": {
    "name": "ipython",
    "version": 3
   },
   "file_extension": ".py",
   "mimetype": "text/x-python",
   "name": "python",
   "nbconvert_exporter": "python",
   "pygments_lexer": "ipython3",
   "version": "3.10.8"
  }
 },
 "nbformat": 4,
 "nbformat_minor": 5
}
