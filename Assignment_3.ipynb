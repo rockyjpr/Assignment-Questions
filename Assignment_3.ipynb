{
 "cells": [
  {
   "cell_type": "markdown",
   "id": "f72c500e-a7b9-46d8-b405-a7253d0e704d",
   "metadata": {},
   "source": [
    "Q1. Explain Class and Object with respect to Object-Oriented Programming. Give a suitable example."
   ]
  },
  {
   "cell_type": "markdown",
   "id": "a673be08-544a-4e45-af59-adecbc8d3bdf",
   "metadata": {},
   "source": [
    "In object-oriented programming (OOP), a class is a blueprint for creating objects (instances). It defines the properties (attributes) and behaviors (methods) that objects of the class will have. An object, on the other hand, is an instance of a class. It is a concrete realization of the class blueprint, with its own unique state (attribute values) and behavior (method implementations).\n",
    "\n",
    "Here's an example to illustrate the concept of class and object:"
   ]
  },
  {
   "cell_type": "code",
   "execution_count": 1,
   "id": "cb6dba00-f87a-4591-b73e-002954897126",
   "metadata": {},
   "outputs": [
    {
     "name": "stdout",
     "output_type": "stream",
     "text": [
      "Name: Buddy\n",
      "Age: 3\n",
      "Buddy says Woof!\n"
     ]
    }
   ],
   "source": [
    "# Define a class called 'Dog'\n",
    "class Dog:\n",
    "    # Constructor method to initialize attributes\n",
    "    def __init__(self, name, age):\n",
    "        self.name = name\n",
    "        self.age = age\n",
    "    \n",
    "    # Method to make the dog bark\n",
    "    def bark(self):\n",
    "        print(f\"{self.name} says Woof!\")\n",
    "\n",
    "# Create an object (instance) of the class 'Dog'\n",
    "my_dog = Dog(\"Buddy\", 3)\n",
    "\n",
    "# Access the attributes of the object\n",
    "print(\"Name:\", my_dog.name)\n",
    "print(\"Age:\", my_dog.age)\n",
    "\n",
    "# Call a method of the object\n",
    "my_dog.bark()\n"
   ]
  },
  {
   "cell_type": "markdown",
   "id": "9b322bc8-54c5-4b1a-9b97-ada0b905c607",
   "metadata": {},
   "source": [
    "Q2. Name the four pillars of OOPs."
   ]
  },
  {
   "cell_type": "markdown",
   "id": "c82fa1f7-857c-413d-925e-b5df3a132d53",
   "metadata": {},
   "source": [
    "The four pillars of object-oriented programming (OOP) are:\n",
    "\n",
    "Encapsulation: Encapsulation is the bundling of data (attributes) and methods (behaviors) that operate on the data into a single unit called a class. It hides the internal state of an object from the outside world and only exposes a controlled interface for interacting with the object.\n",
    "\n",
    "Abstraction: Abstraction is the process of hiding the complex implementation details and exposing only the essential features of an object. It allows programmers to focus on what an object does rather than how it does it. Abstraction is achieved in Python through classes and interfaces.\n",
    "\n",
    "Inheritance: Inheritance is the mechanism by which a class (subclass) can inherit properties and behavior from another class (superclass). It promotes code reusability and allows for the creation of a hierarchy of classes with shared characteristics. Subclasses can extend or override the functionality of their superclass.\n",
    "\n",
    "Polymorphism: Polymorphism allows objects to be treated as instances of their superclass, even when they are actually instances of a subclass. It enables a single interface to be used for objects of different types and provides a way to perform a single action in different ways. Polymorphism is typically achieved through method overriding and method overloading."
   ]
  },
  {
   "cell_type": "markdown",
   "id": "6b63efdb-d074-4291-bb10-3ecf76068e85",
   "metadata": {},
   "source": [
    "Q3. Explain why the __init__() function is used. Give a suitable example."
   ]
  },
  {
   "cell_type": "markdown",
   "id": "34f82745-b3e8-4fa5-ae7d-747e2fa3d487",
   "metadata": {},
   "source": [
    "The __init__() function in Python is a special method (also known as a constructor) that is automatically called when a new object of a class is created. It is used to initialize the object's state by setting initial values for its attributes.\n",
    "\n",
    "Here's why the __init__() function is used:\n",
    "\n",
    "Initialization: It allows you to initialize the object with specific initial values for its attributes, ensuring that the object starts with the desired state.\n",
    "Attribute Assignment: It provides a convenient place to assign initial values to attributes, making the object self-contained and ready for use immediately after creation.\n",
    "Parameter Passing: It enables you to pass arguments to the constructor when creating an object, allowing for customization of the object's initial state based on external input.\n",
    "Here's an example to illustrate the usage of the __init__() function:"
   ]
  },
  {
   "cell_type": "code",
   "execution_count": 3,
   "id": "862e1c39-b7e7-4941-a58a-c98c2a68044f",
   "metadata": {},
   "outputs": [
    {
     "name": "stdout",
     "output_type": "stream",
     "text": [
      "Name: Alice, Age: 30\n"
     ]
    }
   ],
   "source": [
    "class Person:\n",
    "    def __init__(self, name, age):\n",
    "        self.name = name\n",
    "        self.age = age\n",
    "    \n",
    "    def display_info(self):\n",
    "        print(f\"Name: {self.name}, Age: {self.age}\")\n",
    "\n",
    "# Create an object of the class 'Person' using the constructor\n",
    "person1 = Person(\"Alice\", 30)\n",
    "\n",
    "# Display information about the person\n",
    "person1.display_info()\n"
   ]
  },
  {
   "cell_type": "markdown",
   "id": "7c293d7e-59f3-4a0b-9c68-0f15ba08fd86",
   "metadata": {},
   "source": [
    "Q4. Why self is used in OOPs?"
   ]
  },
  {
   "cell_type": "markdown",
   "id": "d4a56141-924f-4d88-826b-66fc19262c28",
   "metadata": {},
   "source": [
    "In object-oriented programming (OOP), self is used as the first parameter in method definitions within a class. It represents the instance of the class (i.e., the object) itself. The purpose of using self in OOP is to access the attributes and methods of the object within the class.\n",
    "\n",
    "Here are the main reasons why self is used in OOP:\n",
    "\n",
    "Attribute Access: Inside a class, self is used to access the attributes (variables) of the object. It allows methods to refer to the specific instance variables of the object they are operating on.\n",
    "\n",
    "Method Invocation: self is used to invoke other methods of the object. It allows methods to call other methods within the same class using self.method_name() syntax.\n",
    "\n",
    "Instance Specificity: In Python, each instance of a class (object) has its own set of attributes. self is used to differentiate between the attributes and methods of one instance of the class from those of another instance.\n",
    "\n",
    "Object State Management: self allows methods to modify the state of the object by accessing and updating its attributes. It ensures that changes made within a method affect only the specific instance of the object.\n",
    "\n",
    "Here's a simple example to illustrate the usage of self in OOP:"
   ]
  },
  {
   "cell_type": "code",
   "execution_count": 4,
   "id": "c9986e4f-1bfd-4df8-b5c3-3ec4fe09ae83",
   "metadata": {},
   "outputs": [
    {
     "name": "stdout",
     "output_type": "stream",
     "text": [
      "Brand: Toyota, Model: Camry\n"
     ]
    }
   ],
   "source": [
    "class Car:\n",
    "    def __init__(self, brand, model):\n",
    "        self.brand = brand\n",
    "        self.model = model\n",
    "    \n",
    "    def display_info(self):\n",
    "        print(f\"Brand: {self.brand}, Model: {self.model}\")\n",
    "\n",
    "# Create an object of the class 'Car'\n",
    "car1 = Car(\"Toyota\", \"Camry\")\n",
    "\n",
    "# Call the 'display_info()' method using the object\n",
    "car1.display_info()\n"
   ]
  },
  {
   "cell_type": "markdown",
   "id": "5b53ea8a-6e73-429e-9392-46d59bfdb42c",
   "metadata": {},
   "source": [
    "Q5. What is inheritance? Give an example for each type of inheritance."
   ]
  },
  {
   "cell_type": "markdown",
   "id": "2f6bb3c6-14ec-4c1c-b9c3-85c5c8b09a8e",
   "metadata": {},
   "source": [
    "\n",
    "Inheritance is one of the key concepts in object-oriented programming (OOP) that allows a class (subclass) to inherit attributes and methods from another class (superclass). This promotes code reuse and allows for the creation of a hierarchy of classes with shared characteristics.\n",
    "\n",
    "There are different types of inheritance in Python:\n",
    "\n",
    "Single Inheritance: In single inheritance, a subclass inherits from only one superclass. This is the simplest form of inheritance."
   ]
  },
  {
   "cell_type": "code",
   "execution_count": 5,
   "id": "928cb6a9-c0ca-4704-b8a6-08deaf0fb9d2",
   "metadata": {},
   "outputs": [
    {
     "name": "stdout",
     "output_type": "stream",
     "text": [
      "Animal speaks\n",
      "Dog barks\n"
     ]
    }
   ],
   "source": [
    "# Example of Single Inheritance\n",
    "class Animal:\n",
    "    def speak(self):\n",
    "        print(\"Animal speaks\")\n",
    "\n",
    "class Dog(Animal):\n",
    "    def bark(self):\n",
    "        print(\"Dog barks\")\n",
    "\n",
    "# Create an object of the subclass 'Dog'\n",
    "dog = Dog()\n",
    "dog.speak()  # Method inherited from superclass\n",
    "dog.bark()   # Method defined in subclass\n"
   ]
  },
  {
   "cell_type": "markdown",
   "id": "c285dbb1-891f-42ec-9ac4-924a0ccb6973",
   "metadata": {},
   "source": [
    "Multiple Inheritance: In multiple inheritance, a subclass inherits from multiple superclasses. This allows the subclass to inherit attributes and methods from all the superclasses."
   ]
  },
  {
   "cell_type": "code",
   "execution_count": 6,
   "id": "d753ab51-2d0e-461e-a22c-d6f4b4a8f68b",
   "metadata": {},
   "outputs": [
    {
     "name": "stdout",
     "output_type": "stream",
     "text": [
      "Method 1 from Parent1\n",
      "Method 2 from Parent2\n"
     ]
    }
   ],
   "source": [
    "# Example of Multiple Inheritance\n",
    "class Parent1:\n",
    "    def method1(self):\n",
    "        print(\"Method 1 from Parent1\")\n",
    "\n",
    "class Parent2:\n",
    "    def method2(self):\n",
    "        print(\"Method 2 from Parent2\")\n",
    "\n",
    "class Child(Parent1, Parent2):\n",
    "    pass\n",
    "\n",
    "# Create an object of the subclass 'Child'\n",
    "child = Child()\n",
    "child.method1()  # Method inherited from Parent1\n",
    "child.method2()  # Method inherited from Parent2\n"
   ]
  },
  {
   "cell_type": "markdown",
   "id": "2213ff19-daa0-43ab-bdab-0418890cac29",
   "metadata": {},
   "source": [
    "Multilevel Inheritance: In multilevel inheritance, a subclass inherits from a superclass, and another subclass inherits from the subclass, forming a chain of inheritance."
   ]
  },
  {
   "cell_type": "code",
   "execution_count": 7,
   "id": "b8cf85c0-df0c-4e6e-8a64-bfb01e5929ce",
   "metadata": {},
   "outputs": [
    {
     "name": "stdout",
     "output_type": "stream",
     "text": [
      "Method 1 from Grandparent\n",
      "Method 2 from Parent\n"
     ]
    }
   ],
   "source": [
    "# Example of Multilevel Inheritance\n",
    "class Grandparent:\n",
    "    def method1(self):\n",
    "        print(\"Method 1 from Grandparent\")\n",
    "\n",
    "class Parent(Grandparent):\n",
    "    def method2(self):\n",
    "        print(\"Method 2 from Parent\")\n",
    "\n",
    "class Child(Parent):\n",
    "    pass\n",
    "\n",
    "# Create an object of the subclass 'Child'\n",
    "child = Child()\n",
    "child.method1()  # Method inherited from Grandparent\n",
    "child.method2()  # Method inherited from Parent\n"
   ]
  },
  {
   "cell_type": "markdown",
   "id": "263af294-2b5b-4932-a803-27e534122afb",
   "metadata": {},
   "source": [
    "Hierarchical Inheritance: In hierarchical inheritance, multiple subclasses inherit from the same superclass, forming a hierarchy of classes."
   ]
  },
  {
   "cell_type": "code",
   "execution_count": 8,
   "id": "1983f99e-eefc-4639-9c4c-169ad1ad77f9",
   "metadata": {},
   "outputs": [
    {
     "name": "stdout",
     "output_type": "stream",
     "text": [
      "Animal speaks\n",
      "Dog barks\n",
      "Animal speaks\n",
      "Cat meows\n"
     ]
    }
   ],
   "source": [
    "# Example of Hierarchical Inheritance\n",
    "class Animal:\n",
    "    def speak(self):\n",
    "        print(\"Animal speaks\")\n",
    "\n",
    "class Dog(Animal):\n",
    "    def bark(self):\n",
    "        print(\"Dog barks\")\n",
    "\n",
    "class Cat(Animal):\n",
    "    def meow(self):\n",
    "        print(\"Cat meows\")\n",
    "\n",
    "# Create objects of the subclasses 'Dog' and 'Cat'\n",
    "dog = Dog()\n",
    "dog.speak()  # Method inherited from superclass\n",
    "dog.bark()   # Method defined in subclass\n",
    "\n",
    "cat = Cat()\n",
    "cat.speak()  # Method inherited from superclass\n",
    "cat.meow()   # Method defined in subclass\n"
   ]
  },
  {
   "cell_type": "code",
   "execution_count": null,
   "id": "f89ed13d-1ecf-43b1-946d-651d466c3b91",
   "metadata": {},
   "outputs": [],
   "source": []
  }
 ],
 "metadata": {
  "kernelspec": {
   "display_name": "Python 3 (ipykernel)",
   "language": "python",
   "name": "python3"
  },
  "language_info": {
   "codemirror_mode": {
    "name": "ipython",
    "version": 3
   },
   "file_extension": ".py",
   "mimetype": "text/x-python",
   "name": "python",
   "nbconvert_exporter": "python",
   "pygments_lexer": "ipython3",
   "version": "3.10.8"
  }
 },
 "nbformat": 4,
 "nbformat_minor": 5
}
